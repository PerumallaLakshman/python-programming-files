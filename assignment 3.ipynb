{
 "cells": [
  {
   "cell_type": "code",
   "execution_count": 4,
   "id": "55e082dd",
   "metadata": {},
   "outputs": [
    {
     "name": "stdout",
     "output_type": "stream",
     "text": [
      "enter first number:\n",
      "14\n",
      "enter second number:\n",
      "25\n",
      "enter  operator:\n",
      "//\n",
      "floor division of two numbers is : 0\n",
      "k\n",
      "enter first number:\n",
      "25\n",
      "enter second number:\n",
      "35\n",
      "enter  operator:\n",
      "%\n",
      "modulo division of two numbers is : 25\n",
      "q\n",
      "calucator exited\n"
     ]
    }
   ],
   "source": [
    "while True:\n",
    "    print(\"enter first number:\")\n",
    "    a=int(input())\n",
    "    print(\"enter second number:\")\n",
    "    b=int(input())\n",
    "    add=a+b\n",
    "    sub=a-b\n",
    "    mul=a*b\n",
    "    div=a/b\n",
    "    modulodiv=a%b\n",
    "    floordiv=a//b\n",
    "    print(\"enter  operator:\")\n",
    "    operator=input()\n",
    "    if(operator==\"+\"):\n",
    "        print(\"addition of two numbers is :\",add)\n",
    "    elif(operator==\"-\"):\n",
    "        print(\"substraction of two numbers is :\",sub)\n",
    "    elif(operator==\"*\"):\n",
    "        print(\"multiplication of two numbers is :\",mul)\n",
    "    elif(operator==\"/\"):\n",
    "        print(\"division of two numbers is :\",div)\n",
    "    elif(operator==\"%\"):\n",
    "        print(\"modulo division of two numbers is :\",modulodiv)\n",
    "    elif(operator==\"//\"):\n",
    "        print(\"floor division of two numbers is :\",floordiv)\n",
    "    else:\n",
    "        print(\"invalid input\")\n",
    "    val=input()\n",
    "    if(val!=\"q\"):\n",
    "        continue\n",
    "    else:\n",
    "        print(\"calucator exited\")\n",
    "        break\n",
    "  \n",
    "    "
   ]
  },
  {
   "cell_type": "code",
   "execution_count": null,
   "id": "a91ad662",
   "metadata": {},
   "outputs": [],
   "source": []
  }
 ],
 "metadata": {
  "kernelspec": {
   "display_name": "Python 3 (ipykernel)",
   "language": "python",
   "name": "python3"
  },
  "language_info": {
   "codemirror_mode": {
    "name": "ipython",
    "version": 3
   },
   "file_extension": ".py",
   "mimetype": "text/x-python",
   "name": "python",
   "nbconvert_exporter": "python",
   "pygments_lexer": "ipython3",
   "version": "3.11.3"
  }
 },
 "nbformat": 4,
 "nbformat_minor": 5
}
