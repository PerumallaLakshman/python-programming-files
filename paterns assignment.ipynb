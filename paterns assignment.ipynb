{
 "cells": [
  {
   "cell_type": "code",
   "execution_count": 2,
   "id": "5047ad3a",
   "metadata": {},
   "outputs": [
    {
     "name": "stdout",
     "output_type": "stream",
     "text": [
      "1 \n",
      "22 \n",
      "333 \n",
      "4444 \n",
      "55555 \n"
     ]
    }
   ],
   "source": [
    "for i in range(1,6):\n",
    "    for j in range (i):\n",
    "        print(i,end=\"\")\n",
    "    print(\" \")\n",
    "        \n",
    "    "
   ]
  },
  {
   "cell_type": "code",
   "execution_count": 47,
   "id": "e21bd2dd",
   "metadata": {},
   "outputs": [
    {
     "name": "stdout",
     "output_type": "stream",
     "text": [
      "1  \n",
      "1 2  \n",
      "1 2 3  \n",
      "1 2 3 4  \n",
      "1 2 3 4 5  \n"
     ]
    }
   ],
   "source": [
    "for i in range(1,6):\n",
    "    for j in range (i):\n",
    "        print(j+1,end=\" \")\n",
    "    print(\" \")"
   ]
  },
  {
   "cell_type": "code",
   "execution_count": 55,
   "id": "63669c9a",
   "metadata": {},
   "outputs": [
    {
     "name": "stdout",
     "output_type": "stream",
     "text": [
      "1 1 1 1 1  \n",
      "2 2 2 2  \n",
      "3 3 3  \n",
      "4 4  \n",
      "5  \n"
     ]
    }
   ],
   "source": [
    "for i in range(1,6):\n",
    "    for j in range (i,6):\n",
    "        print(i,end=\" \")\n",
    "    print(\" \")\n",
    "        \n",
    "                                                                                            "
   ]
  },
  {
   "cell_type": "code",
   "execution_count": 56,
   "id": "0b95a42e",
   "metadata": {},
   "outputs": [
    {
     "name": "stdout",
     "output_type": "stream",
     "text": [
      "5 5 5 5 5  \n",
      "5 5 5 5  \n",
      "5 5 5  \n",
      "5 5  \n",
      "5  \n"
     ]
    }
   ],
   "source": [
    "for i in range(1,6):\n",
    "    for j in range (i,6):\n",
    "        print(5,end=\" \")\n",
    "    print(\" \")\n",
    "        "
   ]
  },
  {
   "cell_type": "code",
   "execution_count": 18,
   "id": "aeed46a2",
   "metadata": {},
   "outputs": [
    {
     "name": "stdout",
     "output_type": "stream",
     "text": [
      "0 1 2 3 4 5  \n",
      "0 1 2 3 4  \n",
      "0 1 2 3  \n",
      "0 1 2  \n",
      "0 1  \n"
     ]
    }
   ],
   "source": [
    "x=7\n",
    "for i in range(1,6):\n",
    "    x=x-1\n",
    "    for j in range (0,x):\n",
    "        print(j,end=\" \")\n",
    "    print(\" \")"
   ]
  },
  {
   "cell_type": "code",
   "execution_count": 20,
   "id": "5b62fe84",
   "metadata": {},
   "outputs": [
    {
     "name": "stdout",
     "output_type": "stream",
     "text": [
      "1  \n",
      "3 3  \n",
      "5 5 5  \n",
      "7 7 7 7  \n",
      "9 9 9 9 9  \n"
     ]
    }
   ],
   "source": [
    "for i in range(1,10,2):\n",
    "    for j in range (0,i,2):\n",
    "        print(i,end=\" \")\n",
    "    print(\" \")\n",
    "        "
   ]
  },
  {
   "cell_type": "code",
   "execution_count": 2,
   "id": "9c0f178d",
   "metadata": {},
   "outputs": [
    {
     "name": "stdout",
     "output_type": "stream",
     "text": [
      "55555\n",
      "4444\n",
      "333\n",
      "22\n",
      "1\n"
     ]
    }
   ],
   "source": [
    "for i in reversed(range(1,6)):\n",
    "    for j in range(i):\n",
    "        print(i,end=\"\")\n",
    "    print(\"\")"
   ]
  },
  {
   "cell_type": "code",
   "execution_count": 48,
   "id": "428b9980",
   "metadata": {},
   "outputs": [
    {
     "name": "stdout",
     "output_type": "stream",
     "text": [
      "1\n",
      "21\n",
      "321\n",
      "4321\n",
      "54321\n"
     ]
    }
   ],
   "source": [
    "for i in range(1,6):\n",
    "    for j in reversed(range(i)):\n",
    "        print(j+1,end=\"\")\n",
    "    print(\"\")"
   ]
  },
  {
   "cell_type": "code",
   "execution_count": 50,
   "id": "b1425ce5",
   "metadata": {},
   "outputs": [
    {
     "name": "stdout",
     "output_type": "stream",
     "text": [
      "54321\n",
      "4321\n",
      "321\n",
      "21\n",
      "1\n"
     ]
    }
   ],
   "source": [
    "for i in reversed(range(1,6)):\n",
    "    for j in reversed(range(i)):\n",
    "        print(j+1,end=\"\")\n",
    "    print(\"\")"
   ]
  },
  {
   "cell_type": "code",
   "execution_count": 1,
   "id": "9c5b036e",
   "metadata": {},
   "outputs": [
    {
     "name": "stdout",
     "output_type": "stream",
     "text": [
      "1\n",
      "3 2\n",
      "6 5 4\n",
      "10 9 8 7\n",
      "\n"
     ]
    }
   ],
   "source": [
    "x=1\n",
    "while x<=5:\n",
    "    if x==1:\n",
    "        print(\"1\")\n",
    "    elif x==2:\n",
    "        print(\"3 2\")\n",
    "    elif x==3:\n",
    "        print(\"6 5 4\")\n",
    "    elif x==4:\n",
    "        print(\"10 9 8 7\")\n",
    "    else:\n",
    "        print(\"\")\n",
    "    x=x+1\n"
   ]
  },
  {
   "cell_type": "code",
   "execution_count": 2,
   "id": "c3605016",
   "metadata": {},
   "outputs": [
    {
     "name": "stdout",
     "output_type": "stream",
     "text": [
      "        1\n",
      "      1 2\n",
      "    1 2 3\n",
      "  1 2 3 4\n",
      "1 2 3 4 5\n"
     ]
    }
   ],
   "source": [
    "x=1\n",
    "while x<=5:\n",
    "    if x==1:\n",
    "        print(\"        1\")\n",
    "    elif x==2:\n",
    "        print(\"      1 2\")\n",
    "    elif x==3:\n",
    "        print(\"    1 2 3\")\n",
    "    elif x==4:\n",
    "        print(\"  1 2 3 4\")\n",
    "    else:\n",
    "        print(\"1 2 3 4 5\")\n",
    "    x=x+1"
   ]
  },
  {
   "cell_type": "code",
   "execution_count": 3,
   "id": "67cb66cd",
   "metadata": {},
   "outputs": [
    {
     "name": "stdout",
     "output_type": "stream",
     "text": [
      "1\n",
      "4 1\n",
      "1 2 1\n",
      "1 3 3 1\n",
      "1 4 6 4 1\n",
      "1 5 10 10 5 1\n",
      "1 6 15 20 15 6 1\n"
     ]
    }
   ],
   "source": [
    "x=1\n",
    "while x<=7:\n",
    "    if x==1:\n",
    "        print(\"1\")\n",
    "    elif x==2:\n",
    "        print(\"4 1\")\n",
    "    elif x==3:\n",
    "        print(\"1 2 1\")\n",
    "    elif x==4:\n",
    "        print(\"1 3 3 1\")\n",
    "    elif x==5:\n",
    "        print(\"1 4 6 4 1\")\n",
    "    elif x==6:\n",
    "        print(\"1 5 10 10 5 1\")\n",
    "    else:\n",
    "        print(\"1 6 15 20 15 6 1\")\n",
    "    x=x+1\n"
   ]
  },
  {
   "cell_type": "code",
   "execution_count": 4,
   "id": "458ced3b",
   "metadata": {},
   "outputs": [
    {
     "name": "stdout",
     "output_type": "stream",
     "text": [
      "1 2 3 4 5\n",
      "2 2 3 4 5\n",
      "3 3 3 4 5\n",
      "4 4 4 4 5\n",
      "5 5 5 5 5\n"
     ]
    }
   ],
   "source": [
    "x=1\n",
    "while x<=5:\n",
    "    if x==1:\n",
    "        print(\"1 2 3 4 5\")\n",
    "    elif x==2:\n",
    "        print(\"2 2 3 4 5\")\n",
    "    elif x==3:\n",
    "        print(\"3 3 3 4 5\")\n",
    "    elif x==4:\n",
    "        print(\"4 4 4 4 5\")\n",
    "    else:\n",
    "        print(\"5 5 5 5 5\")\n",
    "    x=x+1"
   ]
  },
  {
   "cell_type": "code",
   "execution_count": 6,
   "id": "432b7ff5",
   "metadata": {},
   "outputs": [
    {
     "name": "stdout",
     "output_type": "stream",
     "text": [
      "1\n",
      "2 4\n",
      "3 6 9\n",
      "4 8 12 16\n",
      "5 10 15 20 25\n",
      "6 12 18 24 30 36\n",
      "7 14 21 28 35 42 49\n",
      "8 16 24 32 40 48 56 64\n"
     ]
    }
   ],
   "source": [
    "x=1\n",
    "while x<=8:\n",
    "    if x==1:\n",
    "        print(\"1\")\n",
    "    elif x==2:\n",
    "        print(\"2 4\")\n",
    "    elif x==3:\n",
    "        print(\"3 6 9\")\n",
    "    elif x==4:\n",
    "        print(\"4 8 12 16\")\n",
    "    elif x==5:\n",
    "        print(\"5 10 15 20 25\")\n",
    "    elif x==6:\n",
    "        print(\"6 12 18 24 30 36\")\n",
    "    elif x==7:\n",
    "        print(\"7 14 21 28 35 42 49\")\n",
    "    else:\n",
    "        print(\"8 16 24 32 40 48 56 64\")\n",
    "    x=x+1"
   ]
  },
  {
   "cell_type": "code",
   "execution_count": 2,
   "id": "f15d6d87",
   "metadata": {},
   "outputs": [
    {
     "name": "stdout",
     "output_type": "stream",
     "text": [
      "*\n",
      "* *\n",
      "* * *\n",
      "* * * *\n",
      "* * * * *\n"
     ]
    }
   ],
   "source": [
    "x=1\n",
    "while x<=5:\n",
    "    if x==1:\n",
    "        print(\"*\")\n",
    "    elif x==2:\n",
    "        print(\"* *\")\n",
    "    elif x==3:\n",
    "        print(\"* * *\")\n",
    "    elif x==4:\n",
    "        print(\"* * * *\")\n",
    "    else:\n",
    "        print(\"* * * * *\")\n",
    "    x=x+1\n"
   ]
  },
  {
   "cell_type": "code",
   "execution_count": 17,
   "id": "74edf6a2",
   "metadata": {},
   "outputs": [
    {
     "name": "stdout",
     "output_type": "stream",
     "text": [
      "         * \n",
      "       * *\n",
      "     * * *\n",
      "   * * * *\n",
      " * * * * *\n"
     ]
    }
   ],
   "source": [
    "x=1\n",
    "while x<=5:\n",
    "    if x==1:\n",
    "        print(\"         * \")\n",
    "    elif x==2:\n",
    "        print(\"       * *\")\n",
    "    elif x==3:\n",
    "        print(\"     * * *\")\n",
    "    elif x==4:\n",
    "        print(\"   * * * *\")\n",
    "    else:\n",
    "        print(\" * * * * *\")\n",
    "    x=x+1"
   ]
  },
  {
   "cell_type": "code",
   "execution_count": 16,
   "id": "d29b2ec7",
   "metadata": {},
   "outputs": [
    {
     "name": "stdout",
     "output_type": "stream",
     "text": [
      "* * * * *\n",
      "* * * *\n",
      "* * *\n",
      "* *\n",
      "*\n"
     ]
    }
   ],
   "source": [
    "x=1\n",
    "while x<=5:\n",
    "    if x==1:\n",
    "        print(\"* * * * *\")\n",
    "    elif x==2:\n",
    "        print(\"* * * *\")\n",
    "    elif x==3:\n",
    "        print(\"* * *\")\n",
    "    elif x==4:\n",
    "        print(\"* *\")\n",
    "    else:\n",
    "        print(\"*\")\n",
    "    x=x+1"
   ]
  },
  {
   "cell_type": "code",
   "execution_count": 15,
   "id": "eecbf78e",
   "metadata": {},
   "outputs": [
    {
     "name": "stdout",
     "output_type": "stream",
     "text": [
      "* * * * * *\n",
      " * * * * * \n",
      "  * * * *  \n",
      "   * * *   \n",
      "    * *    \n",
      "     *     \n"
     ]
    }
   ],
   "source": [
    "x=1\n",
    "while x<=6:\n",
    "    if x==1:\n",
    "        print(\"* * * * * *\")\n",
    "    elif x==2:\n",
    "        print(\" * * * * * \")\n",
    "    elif x==3:\n",
    "        print(\"  * * * *  \")\n",
    "    elif x==4:\n",
    "        print(\"   * * *   \")\n",
    "    elif x==5:\n",
    "        print(\"    * *    \")\n",
    "    else:\n",
    "        print(\"     *     \")\n",
    "    x=x+1"
   ]
  },
  {
   "cell_type": "code",
   "execution_count": 6,
   "id": "54f68879",
   "metadata": {},
   "outputs": [
    {
     "name": "stdout",
     "output_type": "stream",
     "text": [
      "*****\n",
      " ****\n",
      "  ***\n",
      "   **\n",
      "    *\n"
     ]
    }
   ],
   "source": [
    "x=1\n",
    "while x<=5:\n",
    "    if x==1:\n",
    "        print(\"*****\")\n",
    "    elif x==2:\n",
    "        print(\" ****\")\n",
    "    elif x==3:\n",
    "        print(\"  ***\")\n",
    "    elif x==4:\n",
    "        print(\"   **\")\n",
    "    else:\n",
    "        print(\"    *\")\n",
    "    x=x+1"
   ]
  },
  {
   "cell_type": "code",
   "execution_count": 13,
   "id": "2038ca71",
   "metadata": {},
   "outputs": [
    {
     "name": "stdout",
     "output_type": "stream",
     "text": [
      "      * \n",
      "     * * \n",
      "    * * *   \n",
      "   * * * *   \n",
      "  * * * * *  \n",
      " * * * * * * \n",
      "* * * * * * *\n"
     ]
    }
   ],
   "source": [
    "x=1\n",
    "while x<=7:\n",
    "    if x==1:\n",
    "        print(\"      * \")\n",
    "    elif x==2:\n",
    "        print(\"     * * \")\n",
    "    elif x==3:\n",
    "        print(\"    * * *   \")\n",
    "    elif x==4:\n",
    "        print(\"   * * * *   \")\n",
    "    elif x==5:\n",
    "        print(\"  * * * * *  \")\n",
    "    elif x==6:\n",
    "        print(\" * * * * * * \")\n",
    "    else:\n",
    "        print(\"* * * * * * *\")\n",
    "    x=x+1"
   ]
  },
  {
   "cell_type": "code",
   "execution_count": 12,
   "id": "3c9cb912",
   "metadata": {},
   "outputs": [
    {
     "name": "stdout",
     "output_type": "stream",
     "text": [
      "*\n",
      "* *\n",
      "* * *\n",
      "* * * *\n",
      "* * * * *\n",
      "* * * * * *\n",
      "\n",
      "\n",
      "* * * * * *\n",
      "* * * * *\n",
      "* * * *\n",
      "* * *\n",
      "* *\n",
      "*\n"
     ]
    }
   ],
   "source": [
    "x=1\n",
    "while x<=14:\n",
    "    if x==1:\n",
    "        print(\"*\")\n",
    "    elif x==2:\n",
    "        print(\"* *\")\n",
    "    elif x==3:\n",
    "        print(\"* * *\")\n",
    "    elif x==4:\n",
    "        print(\"* * * *\")\n",
    "    elif x==5:\n",
    "        print(\"* * * * *\")\n",
    "    elif x==6:\n",
    "        print(\"* * * * * *\")\n",
    "    elif x==7:\n",
    "        print(\"\")\n",
    "    elif x==8:\n",
    "        print(\"\")\n",
    "    elif x==9:\n",
    "        print(\"* * * * * *\")\n",
    "    elif x==10:\n",
    "        print(\"* * * * *\")\n",
    "    elif x==11:\n",
    "        print(\"* * * *\")\n",
    "    elif x==12:\n",
    "        print(\"* * *\")\n",
    "    elif x==13:\n",
    "        print(\"* *\")\n",
    "    else:\n",
    "        print(\"*\")\n",
    "    x=x+1"
   ]
  },
  {
   "cell_type": "code",
   "execution_count": 11,
   "id": "79c3b0c1",
   "metadata": {},
   "outputs": [
    {
     "name": "stdout",
     "output_type": "stream",
     "text": [
      "*\n",
      "* *\n",
      "* * *\n",
      "* * * *\n",
      "* * * * *\n",
      "* * * *\n",
      "* * *\n",
      "* *\n",
      "*\n"
     ]
    }
   ],
   "source": [
    "x=1\n",
    "while x<=9:\n",
    "    if x==1:\n",
    "        print(\"*\")\n",
    "    elif x==2:\n",
    "        print(\"* *\")\n",
    "    elif x==3:\n",
    "        print(\"* * *\")\n",
    "    elif x==4:\n",
    "        print(\"* * * *\")\n",
    "    elif x==5:\n",
    "        print(\"* * * * *\")\n",
    "    elif x==6:\n",
    "        print(\"* * * *\")\n",
    "    elif x==7:\n",
    "        print(\"* * *\")\n",
    "    elif x==8:\n",
    "        print(\"* *\")\n",
    "    else:\n",
    "        print(\"*\")\n",
    "    x=x+1"
   ]
  },
  {
   "cell_type": "code",
   "execution_count": 10,
   "id": "2fdbdad0",
   "metadata": {},
   "outputs": [
    {
     "name": "stdout",
     "output_type": "stream",
     "text": [
      "         * \n",
      "       * *\n",
      "     * * *\n",
      "   * * * *\n",
      " * * * * *\n",
      "   * * * *\n",
      "     * * *\n",
      "       * *\n",
      "         *\n"
     ]
    }
   ],
   "source": [
    "x=1\n",
    "while x<=9:\n",
    "    if x==1:\n",
    "        print(\"         * \")\n",
    "    elif x==2:\n",
    "        print(\"       * *\")\n",
    "    elif x==3:\n",
    "        print(\"     * * *\")\n",
    "    elif x==4:\n",
    "        print(\"   * * * *\")\n",
    "    elif x==5:\n",
    "        print(\" * * * * *\")\n",
    "    elif x==6:\n",
    "        print(\"   * * * *\")\n",
    "    elif x==7:\n",
    "        print(\"     * * *\")\n",
    "    elif x==8:\n",
    "        print(\"       * *\")\n",
    "    else:\n",
    "        print(\"         *\")\n",
    "    x=x+1"
   ]
  },
  {
   "cell_type": "code",
   "execution_count": 9,
   "id": "ef895b21",
   "metadata": {},
   "outputs": [
    {
     "name": "stdout",
     "output_type": "stream",
     "text": [
      "* * * * *\n",
      " * * * *\n",
      "  * * * \n",
      "   * *   \n",
      "    *   \n",
      "    *   \n",
      "    *   \n",
      "   * *   \n",
      "  * * * \n",
      " * * * *\n",
      "* * * * *\n"
     ]
    }
   ],
   "source": [
    "x=1\n",
    "while x<=11:\n",
    "    if x==1 or x==11:\n",
    "        print(\"* * * * *\")\n",
    "    elif x==2 or x==10:\n",
    "        print(\" * * * *\")\n",
    "    elif x==3 or x==9:\n",
    "        print(\"  * * * \")\n",
    "    elif x==4 or x==8:\n",
    "        print(\"   * *   \")\n",
    "    else:\n",
    "        print(\"    *   \")\n",
    "    x=x+1"
   ]
  },
  {
   "cell_type": "code",
   "execution_count": 18,
   "id": "081740f2",
   "metadata": {},
   "outputs": [
    {
     "name": "stdout",
     "output_type": "stream",
     "text": [
      "     *  \n",
      "    * *  \n",
      "   * * *  \n",
      "  * * * * \n",
      " * * * * *\n",
      "* * * * * *\n",
      " * * * * *\n",
      "  * * * * \n",
      "   * * *  \n",
      "    * *  \n",
      "     *  \n"
     ]
    }
   ],
   "source": [
    "x=1\n",
    "while x<=11:\n",
    "    if x==1 or x==11:\n",
    "        print(\"     *  \")\n",
    "    elif x==2 or x==10:\n",
    "        print(\"    * *  \")\n",
    "    elif x==3 or x==9:\n",
    "        print(\"   * * *  \")\n",
    "    elif x==4 or x==8:\n",
    "        print(\"  * * * * \")\n",
    "    elif x==5 or x==7:\n",
    "        print(\" * * * * *\")\n",
    "    else:\n",
    "        print(\"* * * * * *\")\n",
    "    x=x+1"
   ]
  },
  {
   "cell_type": "code",
   "execution_count": 7,
   "id": "ad248ca3",
   "metadata": {},
   "outputs": [
    {
     "name": "stdout",
     "output_type": "stream",
     "text": [
      "     *  \n",
      "    * *  \n",
      "   *   *  \n",
      "  *     * \n",
      " *       *\n",
      "  *     * \n",
      "   *   *  \n",
      "    * *  \n",
      "     *  \n"
     ]
    }
   ],
   "source": [
    "x=1\n",
    "while x<=9:\n",
    "    if x==1 or x==9:\n",
    "        print(\"     *  \")\n",
    "    elif x==2 or x==8:\n",
    "        print(\"    * *  \")\n",
    "    elif x==3 or x==7:\n",
    "        print(\"   *   *  \")\n",
    "    elif x==4 or x==6:\n",
    "        print(\"  *     * \")\n",
    "    else:\n",
    "        print(\" *       *\")\n",
    "    x=x+1"
   ]
  },
  {
   "cell_type": "code",
   "execution_count": null,
   "id": "19b7103d",
   "metadata": {},
   "outputs": [],
   "source": []
  }
 ],
 "metadata": {
  "kernelspec": {
   "display_name": "Python 3 (ipykernel)",
   "language": "python",
   "name": "python3"
  },
  "language_info": {
   "codemirror_mode": {
    "name": "ipython",
    "version": 3
   },
   "file_extension": ".py",
   "mimetype": "text/x-python",
   "name": "python",
   "nbconvert_exporter": "python",
   "pygments_lexer": "ipython3",
   "version": "3.11.3"
  }
 },
 "nbformat": 4,
 "nbformat_minor": 5
}
