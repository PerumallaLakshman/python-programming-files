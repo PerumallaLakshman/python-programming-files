{
 "cells": [
  {
   "cell_type": "markdown",
   "id": "e1bf52f9",
   "metadata": {},
   "source": [
    "# ASSIGNMENT-2"
   ]
  },
  {
   "cell_type": "markdown",
   "id": "ca468db7",
   "metadata": {},
   "source": [
    "#  Q:1) Write a program to accept two numbers from the user and calculate multiplication, division"
   ]
  },
  {
   "cell_type": "code",
   "execution_count": 3,
   "id": "ff2e7b31",
   "metadata": {},
   "outputs": [
    {
     "name": "stdout",
     "output_type": "stream",
     "text": [
      "enter num1:10\n",
      "enter num2:12\n",
      "multiplication of two numbers is: 120\n",
      "division of two numners is: 0.8333333333333334\n"
     ]
    }
   ],
   "source": [
    "num1=int(input(\"enter num1:\"))\n",
    "num2=int(input(\"enter num2:\"))\n",
    "print(\"multiplication of two numbers is:\",num1*num2)\n",
    "print(\"division of two numners is:\",num1/num2)\n",
    "    "
   ]
  },
  {
   "cell_type": "markdown",
   "id": "1eaae3c9",
   "metadata": {},
   "source": [
    "#  Q:2) Write a python program to print the characters from a string that are present at an even index"
   ]
  },
  {
   "cell_type": "code",
   "execution_count": 4,
   "id": "937b7741",
   "metadata": {},
   "outputs": [
    {
     "name": "stdout",
     "output_type": "stream",
     "text": [
      "enter any string:aluminium\n",
      "auiim\n",
      " auiim\n"
     ]
    }
   ],
   "source": [
    "string=(input(\"enter any string:\"))\n",
    "for x in range(len(string)):\n",
    "    if x%2==0:\n",
    "        print(string[x],end=\"\")\n",
    "        \n",
    "        \n",
    "        #or\n",
    "        \n",
    "print(\"\\n\",string[::2])\n",
    "        \n",
    "    "
   ]
  },
  {
   "cell_type": "markdown",
   "id": "e9585c4f",
   "metadata": {},
   "source": [
    "#  Q:3) Write a python program to print the characters from a string that are present at an odd index"
   ]
  },
  {
   "cell_type": "code",
   "execution_count": 5,
   "id": "4bc7b810",
   "metadata": {},
   "outputs": [
    {
     "name": "stdout",
     "output_type": "stream",
     "text": [
      "enter any string:goldangdiamond\n",
      "odndaod\n",
      " odndaod\n"
     ]
    }
   ],
   "source": [
    "string=(input(\"enter any string:\"))\n",
    "for x in range(len(string)):\n",
    "    if x%2!=0:\n",
    "        print(string[x],end=\"\")\n",
    "        \n",
    "           #or\n",
    "        \n",
    "print(\"\\n\",string[1::2])\n",
    "        "
   ]
  },
  {
   "cell_type": "markdown",
   "id": "684406a3",
   "metadata": {},
   "source": [
    "#  Q:4) Write a python program which will print the sum of the two numbers if the two numbers are even or it will print the difference of two numbers"
   ]
  },
  {
   "cell_type": "code",
   "execution_count": 6,
   "id": "632310ed",
   "metadata": {},
   "outputs": [
    {
     "name": "stdout",
     "output_type": "stream",
     "text": [
      "enter num1:25\n",
      "enter num2:35\n",
      "difference of two numbers is : -10\n"
     ]
    }
   ],
   "source": [
    "num1=int(input(\"enter num1:\"))\n",
    "num2=int(input(\"enter num2:\"))\n",
    "if (num1%2==0) and (num2%2==0):\n",
    "    print(\"sum of two numbers is :\",num1+num2)\n",
    "else:\n",
    "    print(\"difference of two numbers is :\",num1-num2)"
   ]
  },
  {
   "cell_type": "markdown",
   "id": "f9890400",
   "metadata": {},
   "source": [
    "#  Q:5) Write a python program to convert all even indexed alphabets to upper and odd indexed char"
   ]
  },
  {
   "cell_type": "code",
   "execution_count": 7,
   "id": "3bf70651",
   "metadata": {},
   "outputs": [
    {
     "name": "stdout",
     "output_type": "stream",
     "text": [
      "enter string:hallusination\n",
      "HaLlUsInAtIoN"
     ]
    }
   ],
   "source": [
    "string=input(\"enter string:\")\n",
    "\n",
    "\n",
    "for i in range(len(string)):\n",
    "    if i%2==0:\n",
    "        print(string[i].upper(),end=\"\")\n",
    "    else:\n",
    "        print(string[i],end=\"\")"
   ]
  },
  {
   "cell_type": "markdown",
   "id": "671ce8f4",
   "metadata": {},
   "source": [
    "#  Q:6) Write a python program which will print True if the input number is divisible by 5 or else False"
   ]
  },
  {
   "cell_type": "code",
   "execution_count": 8,
   "id": "80074de5",
   "metadata": {},
   "outputs": [
    {
     "name": "stdout",
     "output_type": "stream",
     "text": [
      "enter number:25\n",
      "True\n"
     ]
    }
   ],
   "source": [
    "number=int(input(\"enter number:\"))\n",
    "if (number%5==0):\n",
    "    print(\"True\")\n",
    "else:\n",
    "    print(\"False\")"
   ]
  },
  {
   "cell_type": "markdown",
   "id": "f3ba2ff0",
   "metadata": {},
   "source": [
    "#  Q:7) Given two integer numbers return their product only if the product is greater than 1000, else return their sum\n"
   ]
  },
  {
   "cell_type": "code",
   "execution_count": 9,
   "id": "fb6b8003",
   "metadata": {},
   "outputs": [
    {
     "name": "stdout",
     "output_type": "stream",
     "text": [
      "enter num1:21\n",
      "enter num2:5\n",
      "26\n"
     ]
    }
   ],
   "source": [
    "num1=int(input(\"enter num1:\"))\n",
    "num2=int(input(\"enter num2:\"))\n",
    "if (num1*num2>1000):\n",
    "    print(num1*num2)\n",
    "else:\n",
    "    print(num1+num2)"
   ]
  },
  {
   "cell_type": "markdown",
   "id": "f9cadebd",
   "metadata": {},
   "source": [
    "#  Q:8) Given two strings x, y writes a program to return a new string made of x and y’s first, middle, and last characters"
   ]
  },
  {
   "cell_type": "code",
   "execution_count": 2,
   "id": "63f2fe96",
   "metadata": {},
   "outputs": [
    {
     "name": "stdout",
     "output_type": "stream",
     "text": [
      "enter string1:value\n",
      "enter string2:keys\n",
      "vklyes\n"
     ]
    }
   ],
   "source": [
    "string1=input(\"enter string1:\")\n",
    "string2=input(\"enter string2:\")\n",
    "mid1=len(string1)//2\n",
    "mid2=len(string2)//2\n",
    "new_string=string1[0]+string2[0]+string1[mid1]+string2[mid2]+string1[-1]+string2[-1]\n",
    "print(new_string)"
   ]
  },
  {
   "cell_type": "markdown",
   "id": "e3469f40",
   "metadata": {},
   "source": [
    "#  Q:9) Write a python program to take three names as input from a user in the single input () function call"
   ]
  },
  {
   "cell_type": "code",
   "execution_count": 11,
   "id": "4a605255",
   "metadata": {},
   "outputs": [
    {
     "name": "stdout",
     "output_type": "stream",
     "text": [
      "enter names:hari ram sree\n",
      "name1: hari\n",
      "name2: ram\n",
      "name3: sree\n"
     ]
    }
   ],
   "source": [
    "INPUT=input(\"enter names:\")\n",
    "new=INPUT.split()\n",
    "print(\"name1:\",new[0])\n",
    "print(\"name2:\",new[1])\n",
    "print(\"name3:\",new[2])"
   ]
  },
  {
   "cell_type": "markdown",
   "id": "e2a6b019",
   "metadata": {},
   "source": [
    "#  Q:10) Write a Python program to get a string from a given string where all occurrences of its first char have been changed to '@', except the first char itself."
   ]
  },
  {
   "cell_type": "code",
   "execution_count": 13,
   "id": "18836865",
   "metadata": {},
   "outputs": [
    {
     "name": "stdout",
     "output_type": "stream",
     "text": [
      "ajayakashvardhan\n",
      "a\n",
      "@\n",
      "aj@y@k@shv@rdh@n\n"
     ]
    }
   ],
   "source": [
    "string1=input()\n",
    "x=input()\n",
    "y=input()\n",
    "new=string1.replace(x,y)\n",
    "print(new.replace(y,x,1))\n"
   ]
  },
  {
   "cell_type": "markdown",
   "id": "b1ba67d1",
   "metadata": {},
   "source": [
    "#  Q:11) Write a Python program to add 'ing' at the end of a given string (string length should be equal to or more than 3). If the given string already ends with 'ing' then add 'ly' instead. If the string length of the given string is less than 3, leave it unchanged"
   ]
  },
  {
   "cell_type": "code",
   "execution_count": 18,
   "id": "8f0248e5",
   "metadata": {},
   "outputs": [
    {
     "name": "stdout",
     "output_type": "stream",
     "text": [
      "enter string:dyeing\n",
      "dyely\n"
     ]
    }
   ],
   "source": [
    "string=input(\"enter string:\")\n",
    "if len(string)>=3:\n",
    "    if string[-3:]==\"ing\":\n",
    "        print(string.replace('ing','ly'))\n",
    "    elif  string[-3:]!=\"ing\":\n",
    "        print(string+\"ing\")\n",
    "else:\n",
    "    print(string)"
   ]
  },
  {
   "cell_type": "markdown",
   "id": "3872d656",
   "metadata": {},
   "source": [
    " #  Q:12) python program that accepts two inputs num1 and num2 print True if one of them is 10 or if their sum is 10 otherwise print False"
   ]
  },
  {
   "cell_type": "code",
   "execution_count": 23,
   "id": "518d2c46",
   "metadata": {},
   "outputs": [
    {
     "name": "stdout",
     "output_type": "stream",
     "text": [
      "enter num1:5\n",
      "enter num2:3\n",
      "false\n"
     ]
    }
   ],
   "source": [
    "num1=int(input(\"enter num1:\"))\n",
    "num2=int(input(\"enter num2:\"))\n",
    "if (num1==10)or(num2==10)or(num1+num2==10):\n",
    "    print(\"true\")\n",
    "else:\n",
    "    print(\"false\")"
   ]
  },
  {
   "cell_type": "markdown",
   "id": "328c9a3b",
   "metadata": {},
   "source": [
    "#  Q:13) Write a python program that accepts three inputs x, y and z print True if x*y>z otherwise False\n"
   ]
  },
  {
   "cell_type": "code",
   "execution_count": 24,
   "id": "68ed6d39",
   "metadata": {},
   "outputs": [
    {
     "name": "stdout",
     "output_type": "stream",
     "text": [
      "enter value1:54\n",
      "enter value2:35\n",
      "enter value3:25\n",
      "true\n"
     ]
    }
   ],
   "source": [
    "x=int(input(\"enter value1:\"))\n",
    "y=int(input(\"enter value2:\"))\n",
    "z=int(input(\"enter value3:\"))\n",
    "if x*y>z:\n",
    "    print(\"true\")\n",
    "else:\n",
    "    print(\"false\")"
   ]
  },
  {
   "cell_type": "markdown",
   "id": "40f47c83",
   "metadata": {},
   "source": [
    "#  Q:14) Write a python program that accepts two strings inputs return True depending on whether the total number of characters in the first string is equal to the total number of characters in the second string\n"
   ]
  },
  {
   "cell_type": "code",
   "execution_count": 26,
   "id": "afed0783",
   "metadata": {},
   "outputs": [
    {
     "name": "stdout",
     "output_type": "stream",
     "text": [
      "enter string1:arun\n",
      "enter string2:arya\n",
      "true\n"
     ]
    }
   ],
   "source": [
    "string1=input(\"enter string1:\")\n",
    "string2=input(\"enter string2:\")\n",
    "if (len(string1)==len(string2)):\n",
    "    print(\"true\")\n",
    "    "
   ]
  },
  {
   "cell_type": "markdown",
   "id": "70814165",
   "metadata": {},
   "source": [
    "#  Q:15) Write a python program that takes a string input, we'll say that the front is the first three characters of the string. If the string length is less than three characters, the front is whatever is there. Return a new string, which is three copies of the front"
   ]
  },
  {
   "cell_type": "code",
   "execution_count": 1,
   "id": "fa0ffc93",
   "metadata": {},
   "outputs": [
    {
     "name": "stdout",
     "output_type": "stream",
     "text": [
      "enter string:hi\n",
      "hihihi\n"
     ]
    }
   ],
   "source": [
    "string=input(\"enter string:\")\n",
    "if len(string)<3:\n",
    "    print(string*3)\n"
   ]
  },
  {
   "cell_type": "markdown",
   "id": "c21992a3",
   "metadata": {},
   "source": [
    "# Q:16) Write a python program that takes in a word and determines whether or not it is plural. A plural word is one that ends in \"s\".\n"
   ]
  },
  {
   "cell_type": "code",
   "execution_count": 29,
   "id": "88a5d6eb",
   "metadata": {},
   "outputs": [
    {
     "name": "stdout",
     "output_type": "stream",
     "text": [
      "alphabets\n",
      "string is plural\n"
     ]
    }
   ],
   "source": [
    "string=input()\n",
    "if string[-1]==\"s\":\n",
    "    print(\"string is plural\")\n",
    "else:\n",
    "    print(\"string is not a plural\")"
   ]
  },
  {
   "cell_type": "markdown",
   "id": "7efa2da9",
   "metadata": {},
   "source": [
    "#  Q:17) A bartender is writing a simple program to determine whether he should serve drinks to someone. He only serves drinks to people 18 and older and when he's not on break (True means break and False means not a break time). Given the person's age, and whether break time is in session, create a python program which prints whether he should serve drinks or not.\n"
   ]
  },
  {
   "cell_type": "code",
   "execution_count": 36,
   "id": "c3b1b92f",
   "metadata": {},
   "outputs": [
    {
     "name": "stdout",
     "output_type": "stream",
     "text": [
      "enter age:21\n",
      "enter 'yes' for break and 'no' for not in break:no\n",
      "bartender can serve\n"
     ]
    }
   ],
   "source": [
    "age=int(input(\"enter age:\"))\n",
    "leave=input(\"enter 'yes' for break and 'no' for not in break:\")\n",
    "if (age>=18)and(leave==\"no\"):\n",
    "    print(\"bartender can serve\")\n",
    "else:\n",
    "    print(\"bartender cannot serve\")"
   ]
  },
  {
   "cell_type": "markdown",
   "id": "e526445b",
   "metadata": {},
   "source": [
    "# Q:18) Manoj Kumar has family and friends. Help him remind them who is who. Given a string with a name, return the relation of that person to Manoj Kumar."
   ]
  },
  {
   "cell_type": "code",
   "execution_count": 1,
   "id": "9b4a673e",
   "metadata": {},
   "outputs": [
    {
     "name": "stdout",
     "output_type": "stream",
     "text": [
      "tharun\n",
      "tharun is a brother of manoj\n"
     ]
    }
   ],
   "source": [
    "person=[\"siva\",\"letha\",\"tharun\",\"kavitha\"]\n",
    "relation=[\"father\",\"mother\",\"brother\",\"sister\"]\n",
    "name=input()\n",
    "for i in range(len(person)):\n",
    "    if(name==person[i]):\n",
    "        print(name,\"is a\",relation[i],\"of manoj\")"
   ]
  },
  {
   "cell_type": "markdown",
   "id": "e03a659c",
   "metadata": {},
   "source": [
    "# Q:19) Write a python program that takes a string, breaks it up and returns it with vowels first, consonants second. For any character that's not a vowel (like special characters or spaces), treat them like consonants"
   ]
  },
  {
   "cell_type": "code",
   "execution_count": 4,
   "id": "0ece3c5b",
   "metadata": {},
   "outputs": [
    {
     "name": "stdout",
     "output_type": "stream",
     "text": [
      "aluminium\n",
      "auiiulmnm\n"
     ]
    }
   ],
   "source": [
    "string=input()\n",
    "r=[]\n",
    "vowels=[\"a\",\"e\",\"i\",\"o\",\"u\"]\n",
    "for i in range(len(string)):\n",
    "    if(string[i] in vowels):\n",
    "        r.append(string[i])\n",
    "\n",
    "for i in range(len(string)):\n",
    "    if(string[i] not in vowels):\n",
    "        r.append(string[i])\n",
    "\n",
    "final_string=\"\".join(r)\n",
    "print(final_string)"
   ]
  },
  {
   "cell_type": "markdown",
   "id": "397c53c0",
   "metadata": {},
   "source": [
    "# Q:20) Create a dynamic calculator which asks for numbers and operator and return the answers"
   ]
  },
  {
   "cell_type": "code",
   "execution_count": 2,
   "id": "dfd3d462",
   "metadata": {},
   "outputs": [
    {
     "name": "stdout",
     "output_type": "stream",
     "text": [
      "enter first number:\n",
      "12\n",
      "enter second number:\n",
      "35\n",
      "enter  operator:\n",
      "/\n",
      "division of two numbers is : 0.34285714285714286\n",
      "enter any letter to continue and q to quit\n",
      "q\n",
      "calucator exited\n"
     ]
    }
   ],
   "source": [
    "while True:\n",
    "    print(\"enter first number:\")\n",
    "    a=int(input())\n",
    "    print(\"enter second number:\")\n",
    "    b=int(input())\n",
    "    add=a+b\n",
    "    sub=a-b\n",
    "    mul=a*b\n",
    "    div=a/b\n",
    "    modulodiv=a%b\n",
    "    floordiv=a//b\n",
    "    print(\"enter  operator:\")\n",
    "    operator=input()\n",
    "    if(operator==\"+\"):\n",
    "        print(\"addition of two numbers is :\",add)\n",
    "    elif(operator==\"-\"):\n",
    "        print(\"substraction of two numbers is :\",sub)\n",
    "    elif(operator==\"*\"):\n",
    "        print(\"multiplication of two numbers is :\",mul)\n",
    "    elif(operator==\"/\"):\n",
    "        print(\"division of two numbers is :\",div)\n",
    "    elif(operator==\"%\"):\n",
    "        print(\"modulo division of two numbers is :\",modulodiv)\n",
    "    elif(operator==\"//\"):\n",
    "        print(\"floor division of two numbers is :\",floordiv)\n",
    "    else:\n",
    "        print(\"invalid input\")\n",
    "    print(\"enter any letter to continue and q to quit\")\n",
    "    val=input()\n",
    "    if(val!=\"q\"):\n",
    "        continue\n",
    "    else:\n",
    "        print(\"calucator exited\")\n",
    "        break\n",
    "  "
   ]
  }
 ],
 "metadata": {
  "kernelspec": {
   "display_name": "Python 3 (ipykernel)",
   "language": "python",
   "name": "python3"
  },
  "language_info": {
   "codemirror_mode": {
    "name": "ipython",
    "version": 3
   },
   "file_extension": ".py",
   "mimetype": "text/x-python",
   "name": "python",
   "nbconvert_exporter": "python",
   "pygments_lexer": "ipython3",
   "version": "3.11.3"
  }
 },
 "nbformat": 4,
 "nbformat_minor": 5
}
