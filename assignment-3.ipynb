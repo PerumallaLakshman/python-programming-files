{
 "cells": [
  {
   "cell_type": "markdown",
   "id": "56cea368",
   "metadata": {},
   "source": [
    "# Create a python program to print lower case alphabets (a-z) with conditional statement\n"
   ]
  },
  {
   "cell_type": "code",
   "execution_count": 3,
   "id": "a2957793",
   "metadata": {},
   "outputs": [
    {
     "name": "stdout",
     "output_type": "stream",
     "text": [
      "lowercase letters:lower\n",
      "a b c d e f g h i j k l m n o p q r s t u v w x y z\n"
     ]
    }
   ],
   "source": [
    "a=input(\"lowercase letters:\")\n",
    "if (a==\"lower\"):\n",
    "    print(\"a b c d e f g h i j k l m n o p q r s t u v w x y z\")\n",
    "else:\n",
    "    print(\"A B C D E F G H I J K L M N O P Q R S T U V W X Y Z\")"
   ]
  },
  {
   "cell_type": "code",
   "execution_count": null,
   "id": "e92b58ef",
   "metadata": {},
   "outputs": [],
   "source": [
    "\n",
    "\n",
    "# Create a python program to print lower & upper case alphabets with looping concepts (while loop and for loop)\n",
    "\n"
   ]
  },
  {
   "cell_type": "markdown",
   "id": "1fc1e3b0",
   "metadata": {},
   "source": [
    "### using while loop"
   ]
  },
  {
   "cell_type": "markdown",
   "id": "becc756f",
   "metadata": {},
   "source": [
    "print(\"lower case letters:\")\n",
    "x=ord(\"a\")\n",
    "while x<=ord(\"z\"):\n",
    "    print(chr(x),end=\" \")\n",
    "    x=x+1\n",
    "print(\" \")\n",
    "print(\" \")\n",
    "\n",
    "print(\"upper case letters:\")\n",
    "x=ord(\"A\")\n",
    "while x<=ord(\"Z\"):\n",
    "    print(chr(x),end=\" \")\n",
    "    x=x+1\n",
    "print(\" \")\n",
    "print(\" \")\n"
   ]
  },
  {
   "cell_type": "markdown",
   "id": "17053441",
   "metadata": {},
   "source": [
    "### using for loop"
   ]
  },
  {
   "cell_type": "code",
   "execution_count": 4,
   "id": "11c93f62",
   "metadata": {},
   "outputs": [
    {
     "name": "stdout",
     "output_type": "stream",
     "text": [
      "lowercase letters:\n",
      "a b c d e f g h i j k l m n o p q r s t u v w x y z \n",
      "uppercase letters:\n",
      "A B C D E F G H I J K L M N O P Q R S T U V W X Y Z "
     ]
    }
   ],
   "source": [
    "\n",
    "print(\"lowercase letters:\")\n",
    "for i in range(ord(\"a\"),ord(\"{\")):\n",
    "    print(chr(i),end=\" \")\n",
    "print(\"\")\n",
    "    \n",
    "print(\"uppercase letters:\")\n",
    "for i in range(ord(\"A\"),ord(\"[\")):\n",
    "    print(chr(i),end=\" \")\n"
   ]
  },
  {
   "cell_type": "code",
   "execution_count": null,
   "id": "e752daab",
   "metadata": {},
   "outputs": [],
   "source": []
  }
 ],
 "metadata": {
  "kernelspec": {
   "display_name": "Python 3 (ipykernel)",
   "language": "python",
   "name": "python3"
  },
  "language_info": {
   "codemirror_mode": {
    "name": "ipython",
    "version": 3
   },
   "file_extension": ".py",
   "mimetype": "text/x-python",
   "name": "python",
   "nbconvert_exporter": "python",
   "pygments_lexer": "ipython3",
   "version": "3.11.3"
  }
 },
 "nbformat": 4,
 "nbformat_minor": 5
}
