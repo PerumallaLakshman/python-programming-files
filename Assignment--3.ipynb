{
 "cells": [
  {
   "cell_type": "markdown",
   "id": "694acbcc",
   "metadata": {},
   "source": [
    "# Q:1) Write a Python program that prints all the numbers from 0 to 6 except 3 and 6"
   ]
  },
  {
   "cell_type": "code",
   "execution_count": 11,
   "id": "1ca40829",
   "metadata": {},
   "outputs": [
    {
     "name": "stdout",
     "output_type": "stream",
     "text": [
      "enter number1:0\n",
      "enter number2:8\n",
      "0 1 2 4 5 7 "
     ]
    }
   ],
   "source": [
    "num1=int(input(\"enter number1:\"))\n",
    "num2=int(input(\"enter number2:\"))\n",
    "for i in range(num1,num2):\n",
    "    if i==3: \n",
    "        continue\n",
    "    elif i==6:\n",
    "        continue\n",
    "    else:\n",
    "        print(i,end=\" \")\n",
    "        "
   ]
  },
  {
   "cell_type": "markdown",
   "id": "58bb7916",
   "metadata": {},
   "source": [
    "# Q:2) Write a program to accept a number from a user and calculate the sum of all numbers from 1 to a given number"
   ]
  },
  {
   "cell_type": "code",
   "execution_count": 2,
   "id": "8758d1a3",
   "metadata": {},
   "outputs": [
    {
     "name": "stdout",
     "output_type": "stream",
     "text": [
      "enter number:12\n",
      "78.0\n",
      "enter number:12\n",
      "66\n",
      "enter number:12\n",
      "78\n"
     ]
    }
   ],
   "source": [
    "num=int(input(\"enter number:\"))\n",
    "x=1\n",
    "ans=print(num*(num+1)//2)\n",
    "ans\n",
    "# or \n",
    "num=int(input(\"enter number:\"))\n",
    "x=1\n",
    "sum1=0\n",
    "for i in range(x,num+1):\n",
    "    sum1=sum1+i\n",
    "    \n",
    "print(sum1)\n",
    "#or\n",
    "num=int(input(\"enter number:\"))\n",
    "x=1\n",
    "sum1=0\n",
    "while x<=num:\n",
    "    sum1=sum1+x\n",
    "    x=x+1\n",
    "print(sum1)"
   ]
  },
  {
   "cell_type": "markdown",
   "id": "57c82fb9",
   "metadata": {},
   "source": [
    "# Q: 3) Write a program to print multiplication table of a given number(input)"
   ]
  },
  {
   "cell_type": "code",
   "execution_count": 5,
   "id": "4ab74452",
   "metadata": {},
   "outputs": [
    {
     "name": "stdout",
     "output_type": "stream",
     "text": [
      "2\n",
      "2*1=2\n",
      "2*2=4\n",
      "2*3=6\n",
      "2*4=8\n",
      "2*5=10\n",
      "2*6=12\n",
      "2*7=14\n",
      "2*8=16\n",
      "2*9=18\n",
      "2*10=20\n"
     ]
    }
   ],
   "source": [
    "num=int(input())\n",
    "x=1\n",
    "while x<=10:\n",
    "    print(\"{}*{}={}\".format(num,x,num*x))\n",
    "    x=x+1"
   ]
  },
  {
   "cell_type": "markdown",
   "id": "21e96c80",
   "metadata": {},
   "source": [
    "# Q: 4) Write a program to count the total number of digits in a number using a while loop"
   ]
  },
  {
   "cell_type": "code",
   "execution_count": 7,
   "id": "3fb70e89",
   "metadata": {},
   "outputs": [
    {
     "name": "stdout",
     "output_type": "stream",
     "text": [
      "2316576515\n",
      "number of digits:  10\n"
     ]
    }
   ],
   "source": [
    "num=int(input())\n",
    "count=0\n",
    "while num>0:\n",
    "    count=count+1\n",
    "    num=num//10\n",
    "print(\"number of digits: \",count)\n",
    "    "
   ]
  },
  {
   "cell_type": "markdown",
   "id": "1a596440",
   "metadata": {},
   "source": [
    "# Q: 5) Write a Python program to guess a number between 1 to"
   ]
  },
  {
   "cell_type": "code",
   "execution_count": 6,
   "id": "7170d75b",
   "metadata": {},
   "outputs": [
    {
     "name": "stdout",
     "output_type": "stream",
     "text": [
      "enter guess number:5\n",
      "enter guess number:12\n",
      "well guess\n"
     ]
    }
   ],
   "source": [
    "\n",
    "while True:\n",
    "    guess=int(input(\"enter guess number:\"))\n",
    "    if guess==12:\n",
    "        print(\"well guess\")\n",
    "        break\n",
    "        "
   ]
  },
  {
   "cell_type": "markdown",
   "id": "f3917f6c",
   "metadata": {},
   "source": [
    "# Q: 6) Write a Python program which iterates the integers from 1 to 60. For multiples of three print \"Fizz\" instead of the number and for the multiples of five print \"Buzz\". For numbers which are multiples of both three and five print \"FizzBuzz\". 7)"
   ]
  },
  {
   "cell_type": "code",
   "execution_count": 5,
   "id": "a3b9873f",
   "metadata": {},
   "outputs": [
    {
     "name": "stdout",
     "output_type": "stream",
     "text": [
      "60\n",
      "1\n",
      "2\n",
      "buzz\n",
      "4\n",
      "buzz\n",
      "buzz\n",
      "7\n",
      "8\n",
      "buzz\n",
      "buzz\n",
      "11\n",
      "buzz\n",
      "13\n",
      "14\n",
      "fizzbuzz\n",
      "16\n",
      "17\n",
      "buzz\n",
      "19\n",
      "buzz\n",
      "buzz\n",
      "22\n",
      "23\n",
      "buzz\n",
      "buzz\n",
      "26\n",
      "buzz\n",
      "28\n",
      "29\n",
      "fizzbuzz\n",
      "31\n",
      "32\n",
      "buzz\n",
      "34\n",
      "buzz\n",
      "buzz\n",
      "37\n",
      "38\n",
      "buzz\n",
      "buzz\n",
      "41\n",
      "buzz\n",
      "43\n",
      "44\n",
      "fizzbuzz\n",
      "46\n",
      "47\n",
      "buzz\n",
      "49\n",
      "buzz\n",
      "buzz\n",
      "52\n",
      "53\n",
      "buzz\n",
      "buzz\n",
      "56\n",
      "buzz\n",
      "58\n",
      "59\n"
     ]
    }
   ],
   "source": [
    "number=int(input())\n",
    "\n",
    "for i in range(1,number):\n",
    "    if i%3==0 and i%5==0:\n",
    "        print(\"fizzbuzz\")\n",
    "    elif i%5==0:\n",
    "        print(\"buzz\")\n",
    "    elif i%3==0 :\n",
    "        print(\"buzz\")\n",
    "    else:\n",
    "        print(i)"
   ]
  },
  {
   "cell_type": "markdown",
   "id": "1f4f27f3",
   "metadata": {},
   "source": [
    "# Q: 7) Write a Python program that accepts a string and calculate the number of digits and letters"
   ]
  },
  {
   "cell_type": "code",
   "execution_count": 1,
   "id": "5ab25189",
   "metadata": {},
   "outputs": [
    {
     "name": "stdout",
     "output_type": "stream",
     "text": [
      "hari@1234\n",
      "['h', 'a', 'r', 'i', '@', '1', '2', '3', '4']\n",
      "4\n",
      "4\n"
     ]
    }
   ],
   "source": [
    "string=input()\n",
    "r=[]\n",
    "for i in range(len(string)):\n",
    "    r.append(string[i])\n",
    "print(r)\n",
    "countalpha,countdigit=0,0\n",
    "for i in range(len(r)):\n",
    "    if(r[i].isalpha()):\n",
    "        countalpha+=1\n",
    "    elif(r[i].isdigit()):\n",
    "        countdigit+=1\n",
    "print(countalpha)\n",
    "print(countdigit)"
   ]
  },
  {
   "cell_type": "markdown",
   "id": "f21ad5e4",
   "metadata": {},
   "source": [
    "# Q: 8) Write a Python program to check the validity of password input by users. Validation: At least 1 letter between [a-z] and 1 letter between [A-Z].At least 1 number between [0-9]. At least 1 character from [$#@]. Minimum length 6 characters. Maximum length 16 characters."
   ]
  },
  {
   "cell_type": "code",
   "execution_count": 2,
   "id": "8c7659bf",
   "metadata": {},
   "outputs": [
    {
     "name": "stdout",
     "output_type": "stream",
     "text": [
      "Lucky@1234\n",
      "password is valid\n"
     ]
    }
   ],
   "source": [
    "password=input()\n",
    "small=['a','b','c','d','e','f','g','h','i','j','k','l','m','n','o','p','q','r','s','t','u','v','w','x','y','z']\n",
    "capitals=['A','B','C','D','E','F','G','H','I','J','K','L','M','N','O','P','Q','R','S','T','U','V','W','X','Y','Z']\n",
    "numbers=['0','1','2','3','4','5','6','7','8','9']\n",
    "symbols=['#','$','@']\n",
    "count,count1,count2,count3=0,0,0,0\n",
    "if(6<=len(password)<=16):\n",
    "    r=[]\n",
    "    for i in range(len(password)):\n",
    "        r.append(password[i])\n",
    "    for i in range(len(r)):\n",
    "        if(r[i] in small):\n",
    "            count+=1\n",
    "    if(count>0):\n",
    "        for i in range(len(r)):\n",
    "            if(r[i] in capitals):\n",
    "                count1+=1\n",
    "    if(count1>0):\n",
    "        for i in range(len(r)):\n",
    "            if(r[i] in numbers):\n",
    "                count2+=1\n",
    "    if(count2>0):\n",
    "        for i in range(len(r)):\n",
    "            if(r[i] in symbols):\n",
    "                count3+=1\n",
    "                print(\"password is valid\")\n",
    "    else:\n",
    "        print(\"password is invalid\")\n",
    "else:\n",
    "    print(\"password is invalid\")\n"
   ]
  },
  {
   "cell_type": "markdown",
   "id": "e4a2eacd",
   "metadata": {},
   "source": [
    "# Q: 9) Write a program in Python to reverse a word by using while loop"
   ]
  },
  {
   "cell_type": "code",
   "execution_count": 3,
   "id": "3e8e819e",
   "metadata": {},
   "outputs": [
    {
     "name": "stdout",
     "output_type": "stream",
     "text": [
      "alarm\n",
      "the reversed stirng is: mrala\n"
     ]
    }
   ],
   "source": [
    "string=input()\n",
    "reverse=''\n",
    "index=len(string)-1\n",
    "while(index>=0):\n",
    "    reverse+=string[index]\n",
    "    index-=1\n",
    "print(\"the reversed stirng is:\",reverse)"
   ]
  },
  {
   "cell_type": "markdown",
   "id": "59d2fa05",
   "metadata": {},
   "source": [
    "# Q: 10) Write a program which takes 10 integers as input using loop and print their average value on the screen"
   ]
  },
  {
   "cell_type": "code",
   "execution_count": 3,
   "id": "5211e928",
   "metadata": {},
   "outputs": [
    {
     "name": "stdout",
     "output_type": "stream",
     "text": [
      "10 2 5 87 50\n",
      "the sum of the given numbers is 154\n",
      "the avg of the given numbers is 30.8\n"
     ]
    }
   ],
   "source": [
    "s=input()\n",
    "string1=s.split(\" \")\n",
    "c=0\n",
    "for i in string1:\n",
    "    c=c+int(i)\n",
    "print(\"the sum of the given numbers is\",c)\n",
    "print(\"the avg of the given numbers is\",c/len(string1))"
   ]
  },
  {
   "cell_type": "markdown",
   "id": "99d2da12",
   "metadata": {},
   "source": [
    "# Q: 11) Write a program which takes integer inputs from user until he/she presses “q” (Ask to press q to quit after every integer input). Print average and product of all numbers."
   ]
  },
  {
   "cell_type": "code",
   "execution_count": 5,
   "id": "5bb1edd2",
   "metadata": {},
   "outputs": [
    {
     "name": "stdout",
     "output_type": "stream",
     "text": [
      "1\n",
      "2\n",
      "34\n",
      "q\n",
      "the product is: 68\n",
      "the average is: 12.333333333333334\n"
     ]
    }
   ],
   "source": [
    "r,sum,pro=[],0,1\n",
    "while True:\n",
    "    s=input()\n",
    "    r.append(s)\n",
    "    if(s!=\"q\"):\n",
    "        sum+=int(s)\n",
    "        pro*=int(s)\n",
    "    else:\n",
    "        break\n",
    "print(\"the product is:\",pro)\n",
    "print(\"the average is:\",sum/(len(r)-1))   "
   ]
  },
  {
   "cell_type": "markdown",
   "id": "437bbcf4",
   "metadata": {},
   "source": [
    "# Q: 12) Write a Python program which will remove all digits or any other characters from the string except alphabets"
   ]
  },
  {
   "cell_type": "code",
   "execution_count": 1,
   "id": "318250f2",
   "metadata": {},
   "outputs": [
    {
     "name": "stdout",
     "output_type": "stream",
     "text": [
      "123@^&%&ahgjbvbj^%%#%^1342543Dj7646CGFT\n",
      "a h g j b v b j D j C G F T "
     ]
    }
   ],
   "source": [
    "string=input()\n",
    "r=[]\n",
    "for i in range(len(string)):\n",
    "    r.append(string[i])\n",
    "    \n",
    "for i in range(len(r)):\n",
    "    if(r[i].isalpha()):\n",
    "        print(r[i],end=\" \")"
   ]
  },
  {
   "cell_type": "markdown",
   "id": "7d6eb634",
   "metadata": {},
   "source": [
    "# Q: 13) Write a python program to find the sum of all even numbers from 0 to 10"
   ]
  },
  {
   "cell_type": "code",
   "execution_count": 2,
   "id": "9e8bd9e4",
   "metadata": {},
   "outputs": [
    {
     "name": "stdout",
     "output_type": "stream",
     "text": [
      "enter number:10\n",
      "30\n"
     ]
    }
   ],
   "source": [
    "num=int(input(\"enter number:\"))\n",
    "x=0\n",
    "sum1=0\n",
    "while x<=num:\n",
    "    if x%2==0:\n",
    "        sum1=sum1+x\n",
    "        x=x+2\n",
    "print(sum1)"
   ]
  },
  {
   "cell_type": "markdown",
   "id": "bb30dd42",
   "metadata": {},
   "source": [
    "# Q: 14) Write a python program which will accept a digit and print All the numbers before it till 0"
   ]
  },
  {
   "cell_type": "code",
   "execution_count": 7,
   "id": "d9cba1ce",
   "metadata": {},
   "outputs": [
    {
     "name": "stdout",
     "output_type": "stream",
     "text": [
      "12\n",
      "12 11 10 9 8 7 6 5 4 3 2 1 0 "
     ]
    }
   ],
   "source": [
    "num=int(input())\n",
    "x=0\n",
    "while x<=num:\n",
    "    print(num,end=\" \")\n",
    "    num=num-1\n",
    "    "
   ]
  },
  {
   "cell_type": "markdown",
   "id": "045520bb",
   "metadata": {},
   "source": [
    "# Q: 15) Create a dynamic calculator which will run continually till you press “c”\n"
   ]
  },
  {
   "cell_type": "code",
   "execution_count": 1,
   "id": "9784f545",
   "metadata": {},
   "outputs": [
    {
     "name": "stdout",
     "output_type": "stream",
     "text": [
      "enter first number:\n",
      "5\n",
      "enter second number:\n",
      "4\n",
      "enter  operator:\n",
      "+\n",
      "addition of two numbers is : 9\n",
      "enter any letter to continue and c to quit\n",
      "c\n",
      "calucator exited\n"
     ]
    }
   ],
   "source": [
    "while True:\n",
    "    print(\"enter first number:\")\n",
    "    a=int(input())\n",
    "    print(\"enter second number:\")\n",
    "    b=int(input())\n",
    "    add=a+b\n",
    "    sub=a-b\n",
    "    mul=a*b\n",
    "    div=a/b\n",
    "    modulodiv=a%b\n",
    "    floordiv=a//b\n",
    "    print(\"enter  operator:\")\n",
    "    operator=input()\n",
    "    if(operator==\"+\"):\n",
    "        print(\"addition of two numbers is :\",add)\n",
    "    elif(operator==\"-\"):\n",
    "        print(\"substraction of two numbers is :\",sub)\n",
    "    elif(operator==\"*\"):\n",
    "        print(\"multiplication of two numbers is :\",mul)\n",
    "    elif(operator==\"/\"):\n",
    "        print(\"division of two numbers is :\",div)\n",
    "    elif(operator==\"%\"):\n",
    "        print(\"modulo division of two numbers is :\",modulodiv)\n",
    "    elif(operator==\"//\"):\n",
    "        print(\"floor division of two numbers is :\",floordiv)\n",
    "    else:\n",
    "        print(\"invalid input\")\n",
    "    print(\"enter any letter to continue and c to quit\")\n",
    "    val=input()\n",
    "    if(val!=\"c\"):\n",
    "        continue\n",
    "    else:\n",
    "        print(\"calucator exited\")\n",
    "        break\n",
    "  "
   ]
  }
 ],
 "metadata": {
  "kernelspec": {
   "display_name": "Python 3 (ipykernel)",
   "language": "python",
   "name": "python3"
  },
  "language_info": {
   "codemirror_mode": {
    "name": "ipython",
    "version": 3
   },
   "file_extension": ".py",
   "mimetype": "text/x-python",
   "name": "python",
   "nbconvert_exporter": "python",
   "pygments_lexer": "ipython3",
   "version": "3.11.3"
  }
 },
 "nbformat": 4,
 "nbformat_minor": 5
}
