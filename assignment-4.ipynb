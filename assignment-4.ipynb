{
 "cells": [
  {
   "cell_type": "markdown",
   "id": "cf5eae4b",
   "metadata": {},
   "source": [
    "# Q :1) Write a Python program to loop through all the elements in a list"
   ]
  },
  {
   "cell_type": "code",
   "execution_count": 1,
   "id": "1a3b8c5f",
   "metadata": {},
   "outputs": [
    {
     "name": "stdout",
     "output_type": "stream",
     "text": [
      "enter the list values:1,2,3,4,5,6\n",
      "1\n",
      "2\n",
      "3\n",
      "4\n",
      "5\n",
      "6\n"
     ]
    }
   ],
   "source": [
    "x=input(\"enter the list values:\").split(\",\")\n",
    "for i in range(len(x)):\n",
    "    print(x[i])"
   ]
  },
  {
   "cell_type": "markdown",
   "id": "36894b34",
   "metadata": {},
   "source": [
    "# Q :2) Write a Python program where you will ask the users to insert elements in a list"
   ]
  },
  {
   "cell_type": "code",
   "execution_count": 7,
   "id": "4b9e2e6e",
   "metadata": {},
   "outputs": [
    {
     "name": "stdout",
     "output_type": "stream",
     "text": [
      "12345\n",
      "['1', '2', '3', '4', '5']\n"
     ]
    }
   ],
   "source": [
    "list1=[]\n",
    "x=input()\n",
    "for i in range(len(x)):\n",
    "    list1.append(x[i])\n",
    "print(list1)\n",
    "    "
   ]
  },
  {
   "cell_type": "markdown",
   "id": "bb95519b",
   "metadata": {},
   "source": [
    "# Q :3) Write a Python program to remove all the odd index value from a list and only even index elements should remain\n"
   ]
  },
  {
   "cell_type": "code",
   "execution_count": 14,
   "id": "379de871",
   "metadata": {},
   "outputs": [
    {
     "name": "stdout",
     "output_type": "stream",
     "text": [
      "a s d f g h j k l\n",
      "a d g j l "
     ]
    }
   ],
   "source": [
    "x=input().split()\n",
    "for i in range(len(x)):\n",
    "    if i%2==0:\n",
    "        print(x[i],end=\" \")"
   ]
  },
  {
   "cell_type": "markdown",
   "id": "c17b80ca",
   "metadata": {},
   "source": [
    "# Q :4) Write a Python program to sum and multiply all the items in a list"
   ]
  },
  {
   "cell_type": "code",
   "execution_count": 23,
   "id": "243c98e6",
   "metadata": {},
   "outputs": [
    {
     "name": "stdout",
     "output_type": "stream",
     "text": [
      "1 2 4 5 3 6 7 8 9\n",
      "sum of all the list elements is : 45\n",
      "product of all the list elements is : 362880\n"
     ]
    }
   ],
   "source": [
    "prod=1\n",
    "sum=0\n",
    "l=input().split()\n",
    "for i in l:\n",
    "    sum=sum+int(i)\n",
    "    prod=prod*int(i)\n",
    "print(\"sum of all the list elements is :\",sum)\n",
    "print(\"product of all the list elements is :\",prod)\n",
    "\n",
    "\n",
    "    "
   ]
  },
  {
   "cell_type": "markdown",
   "id": "42e0dbc4",
   "metadata": {},
   "source": [
    "# Q :5) Write a Python program to get the maximum and minimum numbers from a list"
   ]
  },
  {
   "cell_type": "code",
   "execution_count": 37,
   "id": "cff9ae15",
   "metadata": {},
   "outputs": [
    {
     "name": "stdout",
     "output_type": "stream",
     "text": [
      "enter the numbers1 2 3\n",
      "minmum value: 1\n",
      "maximum value: 3\n"
     ]
    }
   ],
   "source": [
    "l=input(\"enter the numbers\").split()\n",
    "for i in l:\n",
    "    l.sort()\n",
    "print(\"minmum value:\", (l[0]))\n",
    "print(\"maximum value:\", (l[-1]))\n",
    "    "
   ]
  },
  {
   "cell_type": "markdown",
   "id": "d55ee4bb",
   "metadata": {},
   "source": [
    "# Q :6) Write a Python program to print a specified list after removing the 0th, 4th and 5th elements."
   ]
  },
  {
   "cell_type": "code",
   "execution_count": 3,
   "id": "8f792e0e",
   "metadata": {},
   "outputs": [
    {
     "name": "stdout",
     "output_type": "stream",
     "text": [
      "enter the numbers:kiran kumar lakshman surya prakash harshitha \n",
      "['kumar', 'lakshman', 'surya']\n"
     ]
    }
   ],
   "source": [
    "l=input(\"enter the numbers:\").split()\n",
    "w=[]\n",
    "for i in l:\n",
    "    if i==l[0] or i==l[4] or i==l[5]:\n",
    "        continue\n",
    "    else:\n",
    "        w.append(i)\n",
    "print(w)\n"
   ]
  },
  {
   "cell_type": "markdown",
   "id": "402783ea",
   "metadata": {},
   "source": [
    "# Q :7) Write a Python program to convert a list of characters into a string"
   ]
  },
  {
   "cell_type": "code",
   "execution_count": 4,
   "id": "e4bfbab1",
   "metadata": {},
   "outputs": [
    {
     "name": "stdout",
     "output_type": "stream",
     "text": [
      "v i s h w a b h u s h a n\n",
      "vishwabhushan\n"
     ]
    }
   ],
   "source": [
    "list1=input().split()\n",
    "s=(\"\")\n",
    "for i in list1:\n",
    "    s=s+i\n",
    "print(s)"
   ]
  },
  {
   "cell_type": "markdown",
   "id": "d6df53d4",
   "metadata": {},
   "source": [
    "# Q :8) Write a Python program to compute average of given lists."
   ]
  },
  {
   "cell_type": "code",
   "execution_count": 12,
   "id": "6d8248a2",
   "metadata": {},
   "outputs": [
    {
     "name": "stdout",
     "output_type": "stream",
     "text": [
      "1 2 3 4 5\n",
      "average of given list is : 3.0\n"
     ]
    }
   ],
   "source": [
    "list1=input().split()\n",
    "sum=0\n",
    "for i in list1:\n",
    "    sum=sum+int(i)\n",
    "print(\"average of given list is :\",sum/len(list1))\n"
   ]
  },
  {
   "cell_type": "markdown",
   "id": "97e61022",
   "metadata": {},
   "source": [
    "# Q :9) Write a Python program to count integer in a given mixed list."
   ]
  },
  {
   "cell_type": "code",
   "execution_count": 16,
   "id": "eb28f64c",
   "metadata": {},
   "outputs": [
    {
     "name": "stdout",
     "output_type": "stream",
     "text": [
      "1 2 3 as d jk 3 4 5\n",
      "6\n"
     ]
    }
   ],
   "source": [
    "list1=input().split()\n",
    "count=0\n",
    "for i in list1:\n",
    "    if i.isdigit():\n",
    "        count=count+1\n",
    "print(count)"
   ]
  },
  {
   "cell_type": "markdown",
   "id": "271a71ab",
   "metadata": {},
   "source": [
    "# Q :10) Write a Python program to reverse the list"
   ]
  },
  {
   "cell_type": "code",
   "execution_count": 22,
   "id": "09884404",
   "metadata": {},
   "outputs": [
    {
     "name": "stdout",
     "output_type": "stream",
     "text": [
      "1 2 3 4 5\n",
      "['5', '4', '3', '2', '1']\n"
     ]
    }
   ],
   "source": [
    "list1=input().split()\n",
    "list2=[]\n",
    "for i in list1:\n",
    "    i=list1[-1]\n",
    "    list1=list1[0:-1]\n",
    "    list2.append(i)\n",
    "print(list2)"
   ]
  },
  {
   "cell_type": "markdown",
   "id": "47a535ad",
   "metadata": {},
   "source": [
    "# Q :11) Write a Python program convert a given string to a tuple"
   ]
  },
  {
   "cell_type": "code",
   "execution_count": 26,
   "id": "546be329",
   "metadata": {},
   "outputs": [
    {
     "name": "stdout",
     "output_type": "stream",
     "text": [
      "ajay\n"
     ]
    },
    {
     "data": {
      "text/plain": [
       "('a', 'j', 'a', 'y')"
      ]
     },
     "execution_count": 26,
     "metadata": {},
     "output_type": "execute_result"
    }
   ],
   "source": [
    "string=str(input(\"\"))\n",
    "tuple(string)\n"
   ]
  }
 ],
 "metadata": {
  "kernelspec": {
   "display_name": "Python 3 (ipykernel)",
   "language": "python",
   "name": "python3"
  },
  "language_info": {
   "codemirror_mode": {
    "name": "ipython",
    "version": 3
   },
   "file_extension": ".py",
   "mimetype": "text/x-python",
   "name": "python",
   "nbconvert_exporter": "python",
   "pygments_lexer": "ipython3",
   "version": "3.11.3"
  }
 },
 "nbformat": 4,
 "nbformat_minor": 5
}
