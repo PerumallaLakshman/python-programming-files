{
 "cells": [
  {
   "cell_type": "markdown",
   "id": "a6604b9b",
   "metadata": {},
   "source": [
    "# Q: 1) Define a function which will return Max of three numbers"
   ]
  },
  {
   "cell_type": "code",
   "execution_count": 3,
   "id": "eefc8c1a",
   "metadata": {},
   "outputs": [
    {
     "name": "stdout",
     "output_type": "stream",
     "text": [
      "enter num1: 67\n",
      "enter num2: 78\n",
      "enter num3: 56\n"
     ]
    },
    {
     "data": {
      "text/plain": [
       "('the maximum num is', 78)"
      ]
     },
     "execution_count": 3,
     "metadata": {},
     "output_type": "execute_result"
    }
   ],
   "source": [
    "def max1(a,b,c):\n",
    "    if(a>c) and (a>b):\n",
    "        return (\"the maximum num is a with its value of\",a)\n",
    "    elif(b>a) and (b>c):\n",
    "        return (\"the maximum num is b with its value of\",b)\n",
    "    else:\n",
    "        return (\"the maximum num is c with its value of\",c)\n",
    "a=int(input(\"enter num1: \"))\n",
    "b=int(input(\"enter num2: \"))\n",
    "c=int(input(\"enter num3: \"))\n",
    "max1(a,b,c)"
   ]
  },
  {
   "cell_type": "markdown",
   "id": "d842dc49",
   "metadata": {},
   "source": [
    "# Q: 2) Define a Python Function to reverse a string."
   ]
  },
  {
   "cell_type": "code",
   "execution_count": 7,
   "id": "8cfbdacb",
   "metadata": {},
   "outputs": [
    {
     "name": "stdout",
     "output_type": "stream",
     "text": [
      "enter the string: abacus\n"
     ]
    },
    {
     "data": {
      "text/plain": [
       "'sucaba'"
      ]
     },
     "execution_count": 7,
     "metadata": {},
     "output_type": "execute_result"
    }
   ],
   "source": [
    "def reverse(string):\n",
    "    res=\"\"\n",
    "    for i in string:\n",
    "        res=i+res\n",
    "    return res\n",
    "string=input(\"enter the string: \")\n",
    "reverse(string)\n",
    "    "
   ]
  },
  {
   "cell_type": "markdown",
   "id": "ad711544",
   "metadata": {},
   "source": [
    "# Q: 3) Write a Python program to define a function that accepts 2 values and return its sum, subtraction and multiplication."
   ]
  },
  {
   "cell_type": "code",
   "execution_count": 16,
   "id": "4522e304",
   "metadata": {},
   "outputs": [
    {
     "name": "stdout",
     "output_type": "stream",
     "text": [
      "enter the value: 12\n",
      "enter the value: 2\n"
     ]
    },
    {
     "data": {
      "text/plain": [
       "('addition of two num is :',\n",
       " 14,\n",
       " 'substraction of two num is',\n",
       " 10,\n",
       " 'multiplication of two num is :',\n",
       " 24)"
      ]
     },
     "execution_count": 16,
     "metadata": {},
     "output_type": "execute_result"
    }
   ],
   "source": [
    "def calci(x,y):\n",
    "    return \"addition of two num is :\",x+y,\"substraction of two num is:\",x-y,\"multiplication of two num is :\",x*y\n",
    "a=int(input(\"enter the value: \"))\n",
    "b=int(input(\"enter the value: \"))\n",
    "calci(a,b)"
   ]
  },
  {
   "cell_type": "markdown",
   "id": "bb849f6c",
   "metadata": {},
   "source": [
    "# Q: 4) Define a function that accepts roll number and returns whether the student is present or absent."
   ]
  },
  {
   "cell_type": "code",
   "execution_count": 26,
   "id": "d749ccc2",
   "metadata": {},
   "outputs": [
    {
     "name": "stdout",
     "output_type": "stream",
     "text": [
      "100\n",
      "enter no of absenties:2\n",
      "1\n",
      "2\n",
      "[1, 2]\n",
      "1212\n",
      "student not in the database\n"
     ]
    }
   ],
   "source": [
    "total_students=int(input())\n",
    "t=int(input(\"enter no of absenties:\"))\n",
    "absent_list=[]\n",
    "for i in range(t):\n",
    "    a=int(input())\n",
    "    absent_list.append(a)\n",
    "print(absent_list)\n",
    "def stdnt(n):\n",
    "    if n in absent_list:\n",
    "        return print(\"student is absent\")\n",
    "    elif n<=total_students:\n",
    "        return print(\"student is present\")\n",
    "    else:\n",
    "        return print(\"student not in the database\")\n",
    "n=int(input())\n",
    "stdnt(n)"
   ]
  },
  {
   "cell_type": "markdown",
   "id": "ddefd5f5",
   "metadata": {},
   "source": [
    "# Q: 5) Define a function in python that accepts n values and returns the maximum of n numbers"
   ]
  },
  {
   "cell_type": "code",
   "execution_count": 1,
   "id": "65d013e3",
   "metadata": {},
   "outputs": [
    {
     "data": {
      "text/plain": [
       "78"
      ]
     },
     "execution_count": 1,
     "metadata": {},
     "output_type": "execute_result"
    }
   ],
   "source": [
    "def max1(*i):\n",
    "    max(i)\n",
    "    return max(i)\n",
    "max1(45,34,78,67)\n"
   ]
  },
  {
   "cell_type": "markdown",
   "id": "b9aa41d3",
   "metadata": {},
   "source": [
    "# Q: 6) Define a function which counts vowels and consonant in a word."
   ]
  },
  {
   "cell_type": "code",
   "execution_count": 14,
   "id": "c2703116",
   "metadata": {},
   "outputs": [
    {
     "name": "stdout",
     "output_type": "stream",
     "text": [
      "aaeronauticalengineer\n",
      "vowels: 12 \n",
      "consonants: 9\n"
     ]
    }
   ],
   "source": [
    "\n",
    "def c_w(x):\n",
    "    vowels=['a','e','i','o','u']\n",
    "    vwl=0\n",
    "    cnst=0\n",
    "    for i in x:\n",
    "        if i in vowels:\n",
    "            vwl+=1\n",
    "        else:\n",
    "            cnst+=1\n",
    "    return print(\"vowels:\",vwl,\"\\nconsonants:\",cnst)\n",
    "x=input()\n",
    "c_w(x)"
   ]
  },
  {
   "cell_type": "markdown",
   "id": "9897628a",
   "metadata": {},
   "source": [
    "# Q: 7) Define a function that returns Factorial of a number"
   ]
  },
  {
   "cell_type": "code",
   "execution_count": 11,
   "id": "90df1301",
   "metadata": {},
   "outputs": [
    {
     "name": "stdout",
     "output_type": "stream",
     "text": [
      "enter a number:5\n"
     ]
    },
    {
     "data": {
      "text/plain": [
       "120"
      ]
     },
     "execution_count": 11,
     "metadata": {},
     "output_type": "execute_result"
    }
   ],
   "source": [
    "fact=int(input(\"enter a number:\"))\n",
    "def f(x):\n",
    "    if x==0 or x==1:\n",
    "        return 1\n",
    "    else:\n",
    "        return x*f(x-1)\n",
    "f(fact)"
   ]
  },
  {
   "cell_type": "markdown",
   "id": "d3d84ad3",
   "metadata": {},
   "source": [
    "# Q: 8) Define a function that accepts radius and returns the area of a circle."
   ]
  },
  {
   "cell_type": "code",
   "execution_count": 13,
   "id": "320c800d",
   "metadata": {},
   "outputs": [
    {
     "name": "stdout",
     "output_type": "stream",
     "text": [
      "5\n"
     ]
    },
    {
     "data": {
      "text/plain": [
       "78.5"
      ]
     },
     "execution_count": 13,
     "metadata": {},
     "output_type": "execute_result"
    }
   ],
   "source": [
    "radius=float(input())\n",
    "def area(x):\n",
    "    area=3.14*(radius**2)\n",
    "    return area\n",
    "area(radius)"
   ]
  },
  {
   "cell_type": "markdown",
   "id": "49f7adba",
   "metadata": {},
   "source": [
    "# Q: 9) Define a function that takes a number as a parameter and check the number is prime or not."
   ]
  },
  {
   "cell_type": "code",
   "execution_count": 16,
   "id": "50b7bcee",
   "metadata": {},
   "outputs": [
    {
     "name": "stdout",
     "output_type": "stream",
     "text": [
      "enter the num you want check: 5\n"
     ]
    },
    {
     "data": {
      "text/plain": [
       "'prime'"
      ]
     },
     "execution_count": 16,
     "metadata": {},
     "output_type": "execute_result"
    }
   ],
   "source": [
    "def prime(x):\n",
    "    c=0\n",
    "    for i in range(1,x+1):\n",
    "        if (x%i==0):\n",
    "            c+=1\n",
    "    return \"is prime\" if (c==2)  else \"is not pime\"\n",
    "n=int(input(\"enter the num you want check: \"))\n",
    "prime(n)"
   ]
  },
  {
   "cell_type": "markdown",
   "id": "e18a8180",
   "metadata": {},
   "source": [
    "# Q: 10) Mary wants to run a 25-mile marathon. When she attempts to sign up for the marathon, she notices the sign-up sheet doesn't directly state the marathon's length. Instead, the marathon's length is listed in small, different portions. Help Mary find out how long the marathon actually is. So create a function that\n",
    "# ** Return True if the marathon is 25 miles long, otherwise, return False."
   ]
  },
  {
   "cell_type": "code",
   "execution_count": 58,
   "id": "3be0272e",
   "metadata": {},
   "outputs": [
    {
     "name": "stdout",
     "output_type": "stream",
     "text": [
      "enter the range of list:5\n",
      "enter list value:12\n",
      "enter list value:40\n",
      "enter list value:-40\n",
      "enter list value:0\n",
      "enter list value:13\n"
     ]
    },
    {
     "data": {
      "text/plain": [
       "True"
      ]
     },
     "execution_count": 58,
     "metadata": {},
     "output_type": "execute_result"
    }
   ],
   "source": [
    "l=[]\n",
    "n=int(input(\"enter the range of list:\"))\n",
    "for i in range(n):\n",
    "    num=(input(\"enter list value:\"))\n",
    "    if(num.isdigit()):\n",
    "        num=int(num)\n",
    "        l.append(num)\n",
    "    else:\n",
    "        l.append(num)\n",
    "        \n",
    "def  marathon(l):\n",
    "    s=0\n",
    "    for i in l:\n",
    "        i=int(i)\n",
    "        if(i<0):\n",
    "            i=-(i)\n",
    "            s=s+i\n",
    "        else:\n",
    "            s=s+i\n",
    "    return True if s>=25 else False\n",
    "marathon(l)"
   ]
  },
  {
   "cell_type": "markdown",
   "id": "43fad547",
   "metadata": {},
   "source": [
    "# Q: 11) Create a function that takes a number and returns True if the number is automorphic, False if it isn't.\n",
    "# ** number n is automorphic if n^2 ends in n."
   ]
  },
  {
   "cell_type": "code",
   "execution_count": 22,
   "id": "563cd0c9",
   "metadata": {},
   "outputs": [
    {
     "name": "stdout",
     "output_type": "stream",
     "text": [
      "120\n",
      "is automorphic\n"
     ]
    }
   ],
   "source": [
    "def is_automorphic(x):\n",
    "    return print(\"is automorphic\") if (x**2)%10&(x**3)%10==x%10 else print(\"not automorphic\")\n",
    "x=int(input())\n",
    "is_automorphic(x)"
   ]
  },
  {
   "cell_type": "markdown",
   "id": "6ab9fba1",
   "metadata": {},
   "source": [
    "# Q: 12) Create a function, that will take given a, b, c, and do the following:Add        a to itself b times and Check if the result is divisible by c. and return true if it      is divisible by c or false"
   ]
  },
  {
   "cell_type": "code",
   "execution_count": 23,
   "id": "4cc27968",
   "metadata": {},
   "outputs": [
    {
     "name": "stdout",
     "output_type": "stream",
     "text": [
      "4\n",
      "7\n",
      "8\n"
     ]
    },
    {
     "data": {
      "text/plain": [
       "True"
      ]
     },
     "execution_count": 23,
     "metadata": {},
     "output_type": "execute_result"
    }
   ],
   "source": [
    "def fun(a,b,c):\n",
    "    a+=a*b\n",
    "    return True if a%c==0 else False\n",
    "a=int(input())\n",
    "b=int(input())\n",
    "c=int(input())\n",
    "fun(a,b,c)"
   ]
  },
  {
   "cell_type": "markdown",
   "id": "0a6b91df",
   "metadata": {},
   "source": [
    "# Q: 13) 13) Create a function that changes specific words into emoticons. Given a sentence as a string, replace the words smile, grin, sad and mad with their corresponding emoticons.\n",
    "# word emoticon\n",
    "# smile :D\n",
    "# grin :)\n",
    "# sad :(\n",
    "# mad :P"
   ]
  },
  {
   "cell_type": "code",
   "execution_count": 35,
   "id": "c0a4022f",
   "metadata": {},
   "outputs": [
    {
     "name": "stdout",
     "output_type": "stream",
     "text": [
      "im verry sad and grin today\n"
     ]
    },
    {
     "data": {
      "text/plain": [
       "'im verry :( and :) today'"
      ]
     },
     "execution_count": 35,
     "metadata": {},
     "output_type": "execute_result"
    }
   ],
   "source": [
    "def emoticon(string):\n",
    "    if 'smile' in string:\n",
    "        string=string.replace('smile',':D')\n",
    "    if 'grin' in string:\n",
    "        string=string.replace('grin',':)')\n",
    "    if 'sad' in string:\n",
    "        string=string.replace('sad',':(')\n",
    "    if 'mad' in string:\n",
    "        string=string.replace('mad',':P')\n",
    "    return string\n",
    "string=input()\n",
    "emoticon(string)"
   ]
  },
  {
   "cell_type": "markdown",
   "id": "3d3130fc",
   "metadata": {},
   "source": [
    "# Q: 14) Write a Python program to square and cube every number in a given list of integers using Lambda"
   ]
  },
  {
   "cell_type": "code",
   "execution_count": 37,
   "id": "5e1f8b8b",
   "metadata": {},
   "outputs": [
    {
     "name": "stdout",
     "output_type": "stream",
     "text": [
      "enter the range of list:6\n",
      "enter list value:43\n",
      "enter list value:2\n",
      "enter list value:4\n",
      "enter list value:6\n",
      "enter list value:9\n",
      "enter list value:12\n",
      "squares:  [1849, 4, 16, 36, 81, 144]\n",
      "cubes:  [79507, 8, 64, 216, 729, 1728]\n"
     ]
    }
   ],
   "source": [
    "l=[]\n",
    "n=int(input(\"enter the range of list:\"))\n",
    "for i in range(n):\n",
    "    num=(input(\"enter list value:\"))\n",
    "    if(num.isdigit()):\n",
    "        num=int(num)\n",
    "        l.append(num)\n",
    "    else:\n",
    "        l.append(num)\n",
    "        \n",
    "y=list(map(lambda x:x**2,l))\n",
    "x=list(map(lambda x:x**3,l))\n",
    "print(\"squares: \",y)\n",
    "print(\"cubes: \",x)\n"
   ]
  },
  {
   "cell_type": "markdown",
   "id": "fd4547e0",
   "metadata": {},
   "source": [
    "# Q: 15) Write a Python program to check whether a given string is number or not using Lambda"
   ]
  },
  {
   "cell_type": "code",
   "execution_count": 28,
   "id": "e30e6650",
   "metadata": {},
   "outputs": [
    {
     "name": "stdout",
     "output_type": "stream",
     "text": [
      "enter a string to check: nbf56\n"
     ]
    },
    {
     "data": {
      "text/plain": [
       "False"
      ]
     },
     "execution_count": 28,
     "metadata": {},
     "output_type": "execute_result"
    }
   ],
   "source": [
    "s=input(\"enter a string to check: \")\n",
    "num=lambda x:x.isdigit() \n",
    "num(s)\n",
    "    "
   ]
  }
 ],
 "metadata": {
  "kernelspec": {
   "display_name": "Python 3 (ipykernel)",
   "language": "python",
   "name": "python3"
  },
  "language_info": {
   "codemirror_mode": {
    "name": "ipython",
    "version": 3
   },
   "file_extension": ".py",
   "mimetype": "text/x-python",
   "name": "python",
   "nbconvert_exporter": "python",
   "pygments_lexer": "ipython3",
   "version": "3.11.3"
  }
 },
 "nbformat": 4,
 "nbformat_minor": 5
}
