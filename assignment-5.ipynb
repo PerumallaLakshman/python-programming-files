{
 "cells": [
  {
   "cell_type": "markdown",
   "id": "03aaf8f4",
   "metadata": {},
   "source": [
    "# Q:1) Given a list of numbers, write a python program that returns a new list which Has all duplicate elements removed. And is sorted in an increasing order"
   ]
  },
  {
   "cell_type": "code",
   "execution_count": 9,
   "id": "a0361a7e",
   "metadata": {},
   "outputs": [
    {
     "name": "stdout",
     "output_type": "stream",
     "text": [
      "enter range8\n",
      "enter element:5\n",
      "enter element:6\n",
      "enter element:3\n",
      "enter element:4\n",
      "enter element:6\n",
      "enter element:5\n",
      "enter element:4\n",
      "enter element:3\n",
      "[5, 6, 3, 4, 6, 5, 4, 3]\n",
      "[3, 4, 5, 6]\n"
     ]
    }
   ],
   "source": [
    "n=int(input(\"enter range\"))\n",
    "list1=[]\n",
    "for i in range(n):\n",
    "    num=input(\"enter element:\")\n",
    "    if (num.isdigit()):\n",
    "        num=int(num)\n",
    "        list1.append(num)\n",
    "print(list1)\n",
    "l=[]\n",
    "for i in list1:\n",
    "    if i not in l:\n",
    "        l.append(i)\n",
    "print(sorted(l))"
   ]
  },
  {
   "cell_type": "markdown",
   "id": "78abc368",
   "metadata": {},
   "source": [
    "# Q: 2) Write a Python program where you will iterate over both keys and values in dictionaries"
   ]
  },
  {
   "cell_type": "code",
   "execution_count": 20,
   "id": "c278fa92",
   "metadata": {},
   "outputs": [
    {
     "name": "stdout",
     "output_type": "stream",
     "text": [
      "enter the total subjects: 3\n",
      "enter name of the subject: telugu\n",
      "enter marks: 80\n",
      "enter name of the subject: english\n",
      "enter marks: 98\n",
      "enter name of the subject: maths\n",
      "enter marks: 99\n",
      "dict_items([('telugu', '80'), ('english', '98'), ('maths', '99')])\n"
     ]
    }
   ],
   "source": [
    "n=int(input(\"enter the total subjects: \"))\n",
    "d={}\n",
    "for i in range(n):\n",
    "    key=input(\"enter name of the subject: \")\n",
    "    values=input(\"enter marks: \")\n",
    "    d[key]=values\n",
    "print(d.items())"
   ]
  },
  {
   "cell_type": "markdown",
   "id": "3e60136b",
   "metadata": {},
   "source": [
    "# Q: 3) Write a Python program that takes a dictionary of student names and returns a list of student names in alphabetical order"
   ]
  },
  {
   "cell_type": "code",
   "execution_count": 22,
   "id": "e7521ca7",
   "metadata": {},
   "outputs": [
    {
     "name": "stdout",
     "output_type": "stream",
     "text": [
      "enter the total students: 4\n",
      "enter name of the student: hari\n",
      "enter marks: 90\n",
      "enter name of the student: giri\n",
      "enter marks: 45\n",
      "enter name of the student: ravi\n",
      "enter marks: 34\n",
      "enter name of the student: ajay\n",
      "enter marks: 56\n",
      "['ajay', 'giri', 'hari', 'ravi']\n"
     ]
    }
   ],
   "source": [
    "n=int(input(\"enter the total students: \"))\n",
    "d={}\n",
    "for i in range(n):\n",
    "    key=input(\"enter name of the student: \")\n",
    "    values=input(\"enter marks: \")\n",
    "    d[key]=values\n",
    "print(sorted(list(d.keys())))"
   ]
  },
  {
   "cell_type": "markdown",
   "id": "93550817",
   "metadata": {},
   "source": [
    "# Q: 4) Write a Python which returns a new list of Booleans, from a given number. Iterating through the number one digit at a time, append True if the digit is 1 and False if it is 0."
   ]
  },
  {
   "cell_type": "code",
   "execution_count": 23,
   "id": "5615a1a8",
   "metadata": {},
   "outputs": [
    {
     "name": "stdout",
     "output_type": "stream",
     "text": [
      "123112\n"
     ]
    },
    {
     "ename": "TypeError",
     "evalue": "'list' object cannot be interpreted as an integer",
     "output_type": "error",
     "traceback": [
      "\u001b[1;31m---------------------------------------------------------------------------\u001b[0m",
      "\u001b[1;31mTypeError\u001b[0m                                 Traceback (most recent call last)",
      "Cell \u001b[1;32mIn[23], line 3\u001b[0m\n\u001b[0;32m      1\u001b[0m x\u001b[38;5;241m=\u001b[39m\u001b[38;5;28minput\u001b[39m()\u001b[38;5;241m.\u001b[39msplit()\n\u001b[0;32m      2\u001b[0m l\u001b[38;5;241m=\u001b[39m[]\n\u001b[1;32m----> 3\u001b[0m \u001b[38;5;28;01mfor\u001b[39;00m i \u001b[38;5;129;01min\u001b[39;00m \u001b[38;5;28mrange\u001b[39m(x):\n\u001b[0;32m      4\u001b[0m     \u001b[38;5;28;01mif\u001b[39;00m (i\u001b[38;5;241m.\u001b[39misdigit()):\n\u001b[0;32m      5\u001b[0m         \u001b[38;5;28;01mif\u001b[39;00m i\u001b[38;5;241m==\u001b[39m\u001b[38;5;241m1\u001b[39m:\n",
      "\u001b[1;31mTypeError\u001b[0m: 'list' object cannot be interpreted as an integer"
     ]
    }
   ],
   "source": [
    "x=input().split()\n",
    "l=[]\n",
    "for i in range(x):\n",
    "    if (i.isdigit()):\n",
    "        if i==1:\n",
    "            l.append(True)\n",
    "        if i==0:\n",
    "            l.append(False)\n",
    "    print(l)\n"
   ]
  },
  {
   "cell_type": "markdown",
   "id": "8c1c3069",
   "metadata": {},
   "source": [
    "# Q: 5) Write a Python program where you will return a dictionary where the keys will be the character and the values will be the occurrence of the character in the string, and it should for any string inputs (dynamic)"
   ]
  },
  {
   "cell_type": "code",
   "execution_count": 27,
   "id": "81034e9a",
   "metadata": {},
   "outputs": [
    {
     "name": "stdout",
     "output_type": "stream",
     "text": [
      "enter the string: aryavardhan\n",
      "{'a': 4, 'r': 2, 'y': 1, 'v': 1, 'd': 1, 'h': 1, 'n': 1}\n"
     ]
    }
   ],
   "source": [
    "def string(s):\n",
    "    d={}\n",
    "    for i in s:\n",
    "        if i in d:\n",
    "            d[i]+=1\n",
    "        else:\n",
    "            d[i]=1\n",
    "    return d\n",
    "m=input(\"enter the string: \")\n",
    "l=string(m)\n",
    "print(l)"
   ]
  },
  {
   "cell_type": "markdown",
   "id": "657184e5",
   "metadata": {},
   "source": [
    "# Q: 6) Given a dictionary containing the names and ages of a group of people, return the name of the oldest person"
   ]
  },
  {
   "cell_type": "code",
   "execution_count": 32,
   "id": "c9d9f6dc",
   "metadata": {},
   "outputs": [
    {
     "name": "stdout",
     "output_type": "stream",
     "text": [
      "enter the no of people: 4\n",
      "enter name of the person: vishnu\n",
      "enter age: 34\n",
      "enter name of the person: roshan\n",
      "enter age: 12\n",
      "enter name of the person: santosh\n",
      "enter age: 45\n",
      "enter name of the person: surya\n",
      "enter age: 20\n",
      "{'vishnu': '34', 'roshan': '12', 'santosh': '45', 'surya': '20'}\n",
      "santosh\n"
     ]
    }
   ],
   "source": [
    "n=int(input(\"enter the no of people: \"))\n",
    "d={}\n",
    "for i in range(n):\n",
    "    name=input(\"enter name of the person: \")\n",
    "    age=input(\"enter age: \")\n",
    "    d[name]=age\n",
    "print(d)\n",
    "older=max(d.values())\n",
    "for name,age in d.items():\n",
    "    if(age==older):\n",
    "        print(name)\n",
    "  "
   ]
  },
  {
   "cell_type": "markdown",
   "id": "7f09e221",
   "metadata": {},
   "source": [
    "# Q: 7) Write a Python program to create a Rock, Paper, Scissor game, use two inputs for two players:"
   ]
  },
  {
   "cell_type": "code",
   "execution_count": 4,
   "id": "82abe0a4",
   "metadata": {},
   "outputs": [
    {
     "name": "stdout",
     "output_type": "stream",
     "text": [
      "player1 please enter r or p or s:s\n",
      "player2 please enter r or p or s:s\n",
      "try again\n"
     ]
    }
   ],
   "source": [
    "r=\"rock\"\n",
    "p=\"paper\"\n",
    "s=\"scissor\"\n",
    "player1=input(\"player1 please enter r or p or s:\")\n",
    "player2=input(\"player2 please enter r or p or s:\")\n",
    "if (player1==r and player2==s) or (player1==p and player2==r) or (player1==s and player2==p):\n",
    "    print(\"player1 won the game\") \n",
    "    print(\"game over\")\n",
    "elif (player2==r and player1==s) or (player2==p and player1==r) or (player2==s and player1==p):\n",
    "    print(\"player2 won the game\"\"game over\")\n",
    "    print(\"game over\")\n",
    "else:\n",
    "    print(\"try again\")"
   ]
  },
  {
   "cell_type": "markdown",
   "id": "bbb08658",
   "metadata": {},
   "source": [
    "# Q: 8) Create a program that returns a list of items that you can afford in the store with the money you have in your wallet. Create a dictionary with items as key and price as values"
   ]
  },
  {
   "cell_type": "code",
   "execution_count": 9,
   "id": "5ce08a99",
   "metadata": {},
   "outputs": [
    {
     "name": "stdout",
     "output_type": "stream",
     "text": [
      "enter the no of items: 5\n",
      "enter name of the item: oil\n",
      "enter price: 100\n",
      "enter name of the item: rice\n",
      "enter price: 80\n",
      "enter name of the item: salt\n",
      "enter price: 40\n",
      "enter name of the item: sugar\n",
      "enter price: 90\n",
      "enter name of the item: tea_powder\n",
      "enter price: 75\n",
      "how much money do you have in your wallet:92\n",
      "['rice', 'salt', 'sugar', 'tea_powder']\n"
     ]
    }
   ],
   "source": [
    "n=int(input(\"enter the no of items: \"))\n",
    "d={}\n",
    "for i in range(n):\n",
    "    key=input(\"enter name of the item: \")\n",
    "    value=int(input(\"enter price: \"))\n",
    "    d[key]=value\n",
    "wallet=int(input(\"how much money do you have in your wallet:\"))\n",
    "l=[]\n",
    "for name,price in d.items():\n",
    "    if(price<=wallet):\n",
    "        l.append(name)\n",
    "print(l)"
   ]
  },
  {
   "cell_type": "markdown",
   "id": "7f875be3",
   "metadata": {},
   "source": [
    "# Q: 9) Write a Python program to create a union of sets"
   ]
  },
  {
   "cell_type": "code",
   "execution_count": 11,
   "id": "4b8f2861",
   "metadata": {},
   "outputs": [
    {
     "name": "stdout",
     "output_type": "stream",
     "text": [
      "{1, 2, 3, 4, 5, 6, 7, 8, 9}\n"
     ]
    },
    {
     "data": {
      "text/plain": [
       "{1, 2, 3, 4, 5, 6, 7, 8, 9}"
      ]
     },
     "execution_count": 11,
     "metadata": {},
     "output_type": "execute_result"
    }
   ],
   "source": [
    "s1=set((1,2,3,4,5,9))\n",
    "s2=set((3,4,5,6,7,8))\n",
    "s3=s1.union(s2)\n",
    "print(s3)\n",
    "\n",
    "        #or\n",
    "\n",
    "s1|s2    "
   ]
  },
  {
   "cell_type": "markdown",
   "id": "fbbfa02e",
   "metadata": {},
   "source": [
    "# Q: 10) Write a Python program to check if a given value is present in a set or not (Dynamic)"
   ]
  },
  {
   "cell_type": "code",
   "execution_count": 13,
   "id": "731f2e5f",
   "metadata": {},
   "outputs": [
    {
     "name": "stdout",
     "output_type": "stream",
     "text": [
      "enter the range of set: 5\n",
      "enter element into the set : 1\n",
      "enter element into the set : 2\n",
      "enter element into the set : 3\n",
      "enter element into the set : 4\n",
      "enter element into the set : 5\n",
      "{'3', '2', '1', '5', '4'}\n",
      "enter element to check: 7\n",
      "The value is not present\n"
     ]
    }
   ],
   "source": [
    "n=int(input(\"enter the range of set: \"))\n",
    "s=set()\n",
    "for i in range(n):\n",
    "    element=input(\"enter element into the set : \")\n",
    "    s.add(element)\n",
    "print(s)\n",
    "el=input(\"enter element to check: \")\n",
    "for i in s:\n",
    "    if(i==el):\n",
    "        print(\"The value is present\")\n",
    "        break\n",
    "else:\n",
    "    print(\"The value is not present\")"
   ]
  },
  {
   "cell_type": "markdown",
   "id": "1d86516c",
   "metadata": {},
   "source": [
    "# Q: 11) Write a Python program to find the occurrences of 3 most common words in a given text. And make it as a dictionaries"
   ]
  },
  {
   "cell_type": "code",
   "execution_count": 7,
   "id": "05c66872",
   "metadata": {},
   "outputs": [
    {
     "name": "stdout",
     "output_type": "stream",
     "text": [
      "as as as he he gee ree ree ree ree\n",
      "['as', 'as', 'as', 'he', 'he', 'gee', 'ree', 'ree', 'ree', 'ree']\n",
      "{'as': 3, 'he': 2, 'gee': 1, 'ree': 4}\n"
     ]
    },
    {
     "ename": "AttributeError",
     "evalue": "'list' object has no attribute 'items'",
     "output_type": "error",
     "traceback": [
      "\u001b[1;31m---------------------------------------------------------------------------\u001b[0m",
      "\u001b[1;31mAttributeError\u001b[0m                            Traceback (most recent call last)",
      "Cell \u001b[1;32mIn[7], line 11\u001b[0m\n\u001b[0;32m      9\u001b[0m \u001b[38;5;28mprint\u001b[39m(d)\n\u001b[0;32m     10\u001b[0m dic\u001b[38;5;241m=\u001b[39m\u001b[38;5;28msorted\u001b[39m(d\u001b[38;5;241m.\u001b[39mvalues())\n\u001b[1;32m---> 11\u001b[0m \u001b[38;5;28mprint\u001b[39m(dic\u001b[38;5;241m.\u001b[39mitems())\n",
      "\u001b[1;31mAttributeError\u001b[0m: 'list' object has no attribute 'items'"
     ]
    }
   ],
   "source": [
    "text=input()\n",
    "l=text.split()\n",
    "d={}\n",
    "c=0\n",
    "for i in l:\n",
    "    m=l.count(i)\n",
    "    d[i]=m\n",
    "print(l)\n",
    "print(d)\n",
    "dic=sorted(d.values())\n",
    "print(dic.items())\n",
    "    \n",
    "    "
   ]
  },
  {
   "cell_type": "markdown",
   "id": "2495a9f5",
   "metadata": {},
   "source": [
    "# Q: 12) Write a Python program that accepts name of given subject and mark, and make subjects as keys in dictionaries and marks as values and print the final dictionary with subjects and marks\n"
   ]
  },
  {
   "cell_type": "code",
   "execution_count": 1,
   "id": "a5ec9b43",
   "metadata": {},
   "outputs": [
    {
     "name": "stdout",
     "output_type": "stream",
     "text": [
      "enter the total subjects: 6\n",
      "enter name of the subject: telugu\n",
      "enter marks: 98\n",
      "enter name of the subject: hindi\n",
      "enter marks: 97\n",
      "enter name of the subject: english\n",
      "enter marks: 92\n",
      "enter name of the subject: maths\n",
      "enter marks: 99\n",
      "enter name of the subject: science\n",
      "enter marks: 93\n",
      "enter name of the subject: social\n",
      "enter marks: 95\n",
      "dict_items([('telugu', '98'), ('hindi', '97'), ('english', '92'), ('maths', '99'), ('science', '93'), ('social', '95')])\n"
     ]
    }
   ],
   "source": [
    "n=int(input(\"enter the total subjects: \"))\n",
    "d={}\n",
    "for i in range(n):\n",
    "    subject=input(\"enter name of the subject: \")\n",
    "    marks=input(\"enter marks: \")\n",
    "    d[subject]=marks\n",
    "print(d.items())"
   ]
  }
 ],
 "metadata": {
  "kernelspec": {
   "display_name": "Python 3 (ipykernel)",
   "language": "python",
   "name": "python3"
  },
  "language_info": {
   "codemirror_mode": {
    "name": "ipython",
    "version": 3
   },
   "file_extension": ".py",
   "mimetype": "text/x-python",
   "name": "python",
   "nbconvert_exporter": "python",
   "pygments_lexer": "ipython3",
   "version": "3.11.3"
  }
 },
 "nbformat": 4,
 "nbformat_minor": 5
}
