{
 "cells": [
  {
   "cell_type": "markdown",
   "id": "4fc48415",
   "metadata": {},
   "source": [
    "# assignment- small letters(a-z)\n",
    "​"
   ]
  },
  {
   "cell_type": "code",
   "execution_count": 26,
   "id": "9504d485",
   "metadata": {},
   "outputs": [
    {
     "name": "stdout",
     "output_type": "stream",
     "text": [
      "  *  *  \n",
      " *    *  \n",
      "  * *  * \n",
      "        *\n"
     ]
    }
   ],
   "source": [
    "x=1\n",
    "while x<=4:\n",
    "    if x==1 :\n",
    "        print(\"  *  *  \")\n",
    "    elif x==2:\n",
    "        print(\" *    *  \")\n",
    "    elif x==3:\n",
    "         print(\"  * *  * \")\n",
    "   \n",
    "    else :\n",
    "        print(\"        *\")\n",
    "    x=x+1"
   ]
  },
  {
   "cell_type": "code",
   "execution_count": 32,
   "id": "29004bc2",
   "metadata": {},
   "outputs": [
    {
     "name": "stdout",
     "output_type": "stream",
     "text": [
      "*       \n",
      "*       \n",
      "* * *   \n",
      "*    *\n",
      "* * *   \n"
     ]
    }
   ],
   "source": [
    "x=1\n",
    "while x<=5:\n",
    "    if x==1 or  x==2:\n",
    "        print(\"*       \")\n",
    "    elif x==3 or x==5 :\n",
    "        print(\"* * *   \")\n",
    "    else :\n",
    "            print(\"*    *\")\n",
    "    x=x+1"
   ]
  },
  {
   "cell_type": "code",
   "execution_count": 37,
   "id": "64470ab4",
   "metadata": {},
   "outputs": [
    {
     "name": "stdout",
     "output_type": "stream",
     "text": [
      " * * * \n",
      "*    \n",
      "*    \n",
      " * * * \n"
     ]
    }
   ],
   "source": [
    "x=1\n",
    "while x<=4:\n",
    "    if x==1 or  x==4:\n",
    "        print(\" * * * \")\n",
    "    else :\n",
    "            print(\"*    \")\n",
    "    x=x+1"
   ]
  },
  {
   "cell_type": "code",
   "execution_count": 47,
   "id": "cd9b73da",
   "metadata": {},
   "outputs": [
    {
     "name": "stdout",
     "output_type": "stream",
     "text": [
      "      * \n",
      "      * \n",
      "   *  * \n",
      "  *   *\n",
      "   *  * \n"
     ]
    }
   ],
   "source": [
    "x=1\n",
    "while x<=5:\n",
    "    if x==1 or  x==2:\n",
    "        print(\"      * \")\n",
    "    elif x==3 or  x==5:\n",
    "        print(\"   *  * \")\n",
    "    else :\n",
    "            print(\"  *   *\")\n",
    "    x=x+1"
   ]
  },
  {
   "cell_type": "code",
   "execution_count": 71,
   "id": "f968143a",
   "metadata": {},
   "outputs": [
    {
     "name": "stdout",
     "output_type": "stream",
     "text": [
      "  ** *  \n",
      "*     * \n",
      "*  ** * \n",
      "*    \n",
      " * * * \n"
     ]
    }
   ],
   "source": [
    "x=1\n",
    "while x<=5:\n",
    "    if x==1:\n",
    "        print(\"  ** *  \")\n",
    "    elif x==3 :\n",
    "        print(\"*  ** * \")\n",
    "    elif x==2 :\n",
    "        print(\"*     * \")\n",
    "    elif x==5 :\n",
    "        print(\" * * * \")\n",
    "    else :\n",
    "            print(\"*    \")\n",
    "    x=x+1"
   ]
  },
  {
   "cell_type": "code",
   "execution_count": 76,
   "id": "b8198fc5",
   "metadata": {},
   "outputs": [
    {
     "name": "stdout",
     "output_type": "stream",
     "text": [
      "   *  \n",
      " *   *  \n",
      " *\n",
      " * * * \n",
      " *\n",
      " *\n"
     ]
    }
   ],
   "source": [
    "x=1\n",
    "while x<=6:\n",
    "    if x==1 :\n",
    "        print(\"   *  \")\n",
    "    elif x==2  :\n",
    "        print(\" *   *  \")\n",
    "    elif x==4:\n",
    "         print(\" * * * \")\n",
    "   \n",
    "    else :\n",
    "        print(\" *\")\n",
    "    x=x+1"
   ]
  },
  {
   "cell_type": "code",
   "execution_count": 85,
   "id": "3171b074",
   "metadata": {},
   "outputs": [
    {
     "name": "stdout",
     "output_type": "stream",
     "text": [
      "  * \n",
      "*   * \n",
      "  * *\n",
      "    *\n",
      "    *\n",
      "*   * \n",
      "  * \n"
     ]
    }
   ],
   "source": [
    "x=1\n",
    "while x<=7:\n",
    "    if x==2 or x==6 :\n",
    "        print(\"*   * \")\n",
    "    elif x==1  or x==7 :\n",
    "        print(\"  * \")\n",
    "    elif x==3 :\n",
    "        print(\"  * *\")\n",
    "  \n",
    "    else:\n",
    "        print(\"    *\")\n",
    "    x=x+1"
   ]
  },
  {
   "cell_type": "code",
   "execution_count": 87,
   "id": "faf0e2c4",
   "metadata": {},
   "outputs": [
    {
     "name": "stdout",
     "output_type": "stream",
     "text": [
      "*     \n",
      "*     \n",
      "* * *  \n",
      "*    *     \n",
      "*    *     \n"
     ]
    }
   ],
   "source": [
    "x=1\n",
    "while x<=5:\n",
    "    if x==1 or x==2 :\n",
    "        print(\"*     \")\n",
    "    elif x==4 or x==5:\n",
    "         print(\"*    *     \")\n",
    "    else :\n",
    "        print(\"* * *  \")\n",
    "    x=x+1"
   ]
  },
  {
   "cell_type": "code",
   "execution_count": 10,
   "id": "ff65a5cb",
   "metadata": {},
   "outputs": [
    {
     "name": "stdout",
     "output_type": "stream",
     "text": [
      " @\n",
      "\n",
      "**\n",
      " *\n",
      " *\n",
      "**\n"
     ]
    }
   ],
   "source": [
    "x=1\n",
    "while x<=6:\n",
    "    if x==3 or x==6:\n",
    "        print(\"**\")\n",
    "    elif x==4 or x==5:\n",
    "         print(\" *\")\n",
    "    elif x==1:\n",
    "        print(\" @\")\n",
    "    else :\n",
    "        print(\"\")\n",
    "    x=x+1"
   ]
  },
  {
   "cell_type": "code",
   "execution_count": 16,
   "id": "5c4cddef",
   "metadata": {},
   "outputs": [
    {
     "name": "stdout",
     "output_type": "stream",
     "text": [
      "    @\n",
      "\n",
      "   **\n",
      "    *\n",
      "    *\n",
      "* * \n"
     ]
    }
   ],
   "source": [
    "x=1\n",
    "while x<=6:\n",
    "    if x==3 :\n",
    "        print(\"   **\")\n",
    "    elif x==6:\n",
    "        print(\"* * \")\n",
    "    elif x==4 or x==5:\n",
    "         print(\"    *\")\n",
    "    elif x==1:\n",
    "        print(\"    @\")\n",
    "    else :\n",
    "        print(\"\")\n",
    "    x=x+1"
   ]
  },
  {
   "cell_type": "code",
   "execution_count": 17,
   "id": "5b436449",
   "metadata": {},
   "outputs": [
    {
     "name": "stdout",
     "output_type": "stream",
     "text": [
      "*    *\n",
      "*  *    \n",
      "** \n",
      "*  *    \n",
      "*    *\n"
     ]
    }
   ],
   "source": [
    "x=1\n",
    "while x<=5:\n",
    "    if x==1 or x==5:\n",
    "        print(\"*    *\")\n",
    "    elif x==2 or  x==4:\n",
    "        print(\"*  *    \")\n",
    "  \n",
    "    else:\n",
    "        print(\"** \")\n",
    "    x=x+1"
   ]
  },
  {
   "cell_type": "code",
   "execution_count": 5,
   "id": "c32af6b2",
   "metadata": {},
   "outputs": [
    {
     "name": "stdout",
     "output_type": "stream",
     "text": [
      "   *\n",
      "   *\n",
      "   *\n",
      "   *\n"
     ]
    }
   ],
   "source": [
    "x=1\n",
    "while x<5:\n",
    "    print(\"   *\")\n",
    "    x=x+1"
   ]
  },
  {
   "cell_type": "code",
   "execution_count": 13,
   "id": "3dabd904",
   "metadata": {},
   "outputs": [
    {
     "name": "stdout",
     "output_type": "stream",
     "text": [
      "*\n",
      " *\n",
      " * *   *\n",
      " *   *   *\n",
      " *   *   *\n"
     ]
    }
   ],
   "source": [
    "x=1\n",
    "while x<=5:\n",
    "    if x==4 or x==5:\n",
    "        print(\" *   *   *\")\n",
    "    elif x==3 :\n",
    "         print(\" * *   *\")\n",
    "    elif x==1:\n",
    "        print(\"*\")\n",
    "    else :\n",
    "        print(\" *\")\n",
    "    x=x+1"
   ]
  },
  {
   "cell_type": "code",
   "execution_count": 17,
   "id": "3760cd21",
   "metadata": {},
   "outputs": [
    {
     "name": "stdout",
     "output_type": "stream",
     "text": [
      "**\n",
      " * *   \n",
      " *   *   \n",
      " *   *   \n"
     ]
    }
   ],
   "source": [
    "x=1\n",
    "while x<=4:\n",
    "    if x==3 or x==4:\n",
    "        print(\" *   *   \")\n",
    "    elif x==2 :\n",
    "         print(\" * *   \")\n",
    "    else :\n",
    "        print(\"**\")\n",
    "    x=x+1"
   ]
  },
  {
   "cell_type": "code",
   "execution_count": 35,
   "id": "04f9725e",
   "metadata": {},
   "outputs": [
    {
     "name": "stdout",
     "output_type": "stream",
     "text": [
      "  ** \n",
      "*    *\n",
      "*    *\n",
      "*    *\n",
      "  ** \n"
     ]
    }
   ],
   "source": [
    "x=1\n",
    "while x<=5:\n",
    "    if x==1 or x==5:\n",
    "        print(\"  ** \")\n",
    "\n",
    "    else :\n",
    "        print(\"*    *\")\n",
    "    x=x+1"
   ]
  },
  {
   "cell_type": "code",
   "execution_count": 40,
   "id": "af4369b8",
   "metadata": {},
   "outputs": [
    {
     "name": "stdout",
     "output_type": "stream",
     "text": [
      "*  *\n",
      "*   * \n",
      "*  *\n",
      "*   \n",
      "*   \n"
     ]
    }
   ],
   "source": [
    "x=1\n",
    "while x<=5:\n",
    "    if x==1 or  x==3:\n",
    "        print(\"*  *\")\n",
    "    elif x==4 or  x==5:\n",
    "        print(\"*   \")\n",
    "    else :\n",
    "            print(\"*   * \")\n",
    "    x=x+1"
   ]
  },
  {
   "cell_type": "code",
   "execution_count": 9,
   "id": "d959a095",
   "metadata": {},
   "outputs": [
    {
     "name": "stdout",
     "output_type": "stream",
     "text": [
      "   *  * \n",
      "  *   *\n",
      "   *  * \n",
      "      * \n",
      "      * \n"
     ]
    }
   ],
   "source": [
    "x=1\n",
    "while x<=5:\n",
    "    if  x==5 or x==4:\n",
    "        print(\"      * \")\n",
    "    elif x==3 or  x==1:\n",
    "        print(\"   *  * \")\n",
    "\n",
    "    else :\n",
    "            print(\"  *   *\")\n",
    "    x=x+1"
   ]
  },
  {
   "cell_type": "code",
   "execution_count": 33,
   "id": "4c81cd61",
   "metadata": {},
   "outputs": [
    {
     "name": "stdout",
     "output_type": "stream",
     "text": [
      "*      *\n",
      "  *   *  \n",
      "    * \n",
      "    * \n"
     ]
    }
   ],
   "source": [
    "x=1\n",
    "while x<=4:\n",
    "    if x==1  :\n",
    "        print(\"*      *\")\n",
    "    elif   x==2:\n",
    "        print(\"  *   *  \")\n",
    "  \n",
    "    else :\n",
    "            print(\"    * \")\n",
    "    x=x+1"
   ]
  },
  {
   "cell_type": "code",
   "execution_count": 16,
   "id": "a092a7a1",
   "metadata": {},
   "outputs": [
    {
     "name": "stdout",
     "output_type": "stream",
     "text": [
      " * * * \n",
      "*    \n",
      "*    \n",
      " * * * \n",
      "      *\n",
      "      *\n",
      " * * * \n"
     ]
    }
   ],
   "source": [
    "x=1\n",
    "while x<=7:\n",
    "    if x==1 or x==4 or x==7:\n",
    "        print(\" * * * \")\n",
    "    elif x==5 or x==6:\n",
    "        print(\"      *\")\n",
    "    else :\n",
    "            print(\"*    \")\n",
    "    x=x+1"
   ]
  },
  {
   "cell_type": "code",
   "execution_count": 18,
   "id": "f4d20d46",
   "metadata": {},
   "outputs": [
    {
     "name": "stdout",
     "output_type": "stream",
     "text": [
      " * * * *\n",
      "    *    \n",
      "    *    \n",
      "    *    \n"
     ]
    }
   ],
   "source": [
    "x=1\n",
    "while x<=4:\n",
    "    if x==1 :\n",
    "        print(\" * * * *\")\n",
    "    else :\n",
    "            print(\"    *    \")\n",
    "    x=x+1"
   ]
  },
  {
   "cell_type": "code",
   "execution_count": 35,
   "id": "e1aed179",
   "metadata": {},
   "outputs": [
    {
     "name": "stdout",
     "output_type": "stream",
     "text": [
      " *      * \n",
      " *      * \n",
      "  *    *\n",
      "    **    \n"
     ]
    }
   ],
   "source": [
    "x=1\n",
    "while x<=4:\n",
    "    if x==1 or x==2 :\n",
    "        print(\" *      * \")\n",
    "    elif x==3:\n",
    "        print(\"  *    *\")\n",
    "    else :\n",
    "            print(\"    **    \")\n",
    "    x=x+1"
   ]
  },
  {
   "cell_type": "code",
   "execution_count": 37,
   "id": "237f96cf",
   "metadata": {},
   "outputs": [
    {
     "name": "stdout",
     "output_type": "stream",
     "text": [
      " *        * \n",
      " *        * \n",
      "  *     *\n",
      "     *    \n"
     ]
    }
   ],
   "source": [
    "x=1\n",
    "while x<=4:\n",
    "    if x==1 or x==2 :\n",
    "        print(\" *        * \")\n",
    "    elif x==3:\n",
    "        print(\"  *     *\")\n",
    "    else :\n",
    "            print(\"     *    \")\n",
    "    x=x+1"
   ]
  },
  {
   "cell_type": "code",
   "execution_count": 51,
   "id": "ef8c5758",
   "metadata": {},
   "outputs": [
    {
     "name": "stdout",
     "output_type": "stream",
     "text": [
      " *        * \n",
      " *        * \n",
      " *    *   *\n",
      "   *    * \n"
     ]
    }
   ],
   "source": [
    "x=1\n",
    "while x<=4:\n",
    "    if x==1 or x==2 :\n",
    "        print(\" *        * \")\n",
    "    elif x==3:\n",
    "        print(\" *    *   *\")\n",
    "    else :\n",
    "            print(\"   *    * \")\n",
    "    x=x+1"
   ]
  },
  {
   "cell_type": "code",
   "execution_count": 54,
   "id": "e3f1bece",
   "metadata": {},
   "outputs": [
    {
     "name": "stdout",
     "output_type": "stream",
     "text": [
      " *        * \n",
      "   *   *\n",
      "     *     \n",
      "   *   *\n",
      " *        * \n"
     ]
    }
   ],
   "source": [
    "x=1\n",
    "while x<=5:\n",
    "    if x==1 or x==5 :\n",
    "        print(\" *        * \")\n",
    "    elif x==4 or x==2:\n",
    "        print(\"   *   *\")\n",
    "    else :\n",
    "            print(\"     *     \")\n",
    "    x=x+1"
   ]
  },
  {
   "cell_type": "code",
   "execution_count": 63,
   "id": "4a938ed7",
   "metadata": {},
   "outputs": [
    {
     "name": "stdout",
     "output_type": "stream",
     "text": [
      "*    *\n",
      "*    *\n",
      " * * *\n",
      "     *\n",
      "     *\n",
      "* * *\n"
     ]
    }
   ],
   "source": [
    "x=1\n",
    "while x<=6:\n",
    "    if x==3 :\n",
    "        print(\" * * *\")\n",
    "    elif x==6:\n",
    "        print(\"* * *\")\n",
    "    elif x==4 or x==5:\n",
    "         print(\"     *\")\n",
    "    else :\n",
    "        print(\"*    *\")\n",
    "    x=x+1"
   ]
  },
  {
   "cell_type": "code",
   "execution_count": 67,
   "id": "c1993921",
   "metadata": {},
   "outputs": [
    {
     "name": "stdout",
     "output_type": "stream",
     "text": [
      "* * * *\n",
      "     *\n",
      "  ***\n",
      " *\n",
      "* * * *\n"
     ]
    }
   ],
   "source": [
    "x=1\n",
    "while x<=5:\n",
    "    if x==1 or x==5 :\n",
    "        print(\"* * * *\")\n",
    "    elif x==2 :\n",
    "        print(\"     *\")\n",
    "    elif x==3:\n",
    "        print(\"  ***\")\n",
    "    else:\n",
    "          print(\" *\")\n",
    "    x=x+1"
   ]
  },
  {
   "cell_type": "code",
   "execution_count": null,
   "id": "10f20299",
   "metadata": {},
   "outputs": [],
   "source": []
  }
 ],
 "metadata": {
  "kernelspec": {
   "display_name": "Python 3 (ipykernel)",
   "language": "python",
   "name": "python3"
  },
  "language_info": {
   "codemirror_mode": {
    "name": "ipython",
    "version": 3
   },
   "file_extension": ".py",
   "mimetype": "text/x-python",
   "name": "python",
   "nbconvert_exporter": "python",
   "pygments_lexer": "ipython3",
   "version": "3.11.3"
  }
 },
 "nbformat": 4,
 "nbformat_minor": 5
}
