{
 "cells": [
  {
   "cell_type": "code",
   "execution_count": null,
   "id": "7a2ae506",
   "metadata": {},
   "outputs": [],
   "source": [
    "#Q(1): Write a python program to convert a string to lower case\n"
   ]
  },
  {
   "cell_type": "code",
   "execution_count": 2,
   "id": "84313921",
   "metadata": {},
   "outputs": [
    {
     "data": {
      "text/plain": [
       "'welcome to python'"
      ]
     },
     "execution_count": 2,
     "metadata": {},
     "output_type": "execute_result"
    }
   ],
   "source": [
    "x.lower()"
   ]
  },
  {
   "cell_type": "code",
   "execution_count": 4,
   "id": "d30a23e7",
   "metadata": {},
   "outputs": [],
   "source": [
    "#Q(2): Write a python program to convert only odd indexed characters to lower case"
   ]
  },
  {
   "cell_type": "code",
   "execution_count": 6,
   "id": "95c9ddab",
   "metadata": {},
   "outputs": [
    {
     "data": {
      "text/plain": [
       "'WeLcOmE'"
      ]
     },
     "execution_count": 6,
     "metadata": {},
     "output_type": "execute_result"
    }
   ],
   "source": [
    "x=\"WELCOME\"\n",
    "x[0].upper()+x[1].lower()+x[2].upper()+x[3].lower()+x[4].upper()+x[5].lower()+x[6].upper()\n",
    "\n"
   ]
  },
  {
   "cell_type": "code",
   "execution_count": 13,
   "id": "3a20ad11",
   "metadata": {},
   "outputs": [],
   "source": [
    "#Q(3): Write a python program to convert only even indexed characters to lower case\n"
   ]
  },
  {
   "cell_type": "code",
   "execution_count": 14,
   "id": "0e460f3c",
   "metadata": {},
   "outputs": [
    {
     "data": {
      "text/plain": [
       "'wElCoMe'"
      ]
     },
     "execution_count": 14,
     "metadata": {},
     "output_type": "execute_result"
    }
   ],
   "source": [
    "x=\"WELCOME\"\n",
    "x[0].lower()+x[1].upper()+x[2].lower()+x[3].upper()+x[4].lower()+x[5].upper()+x[6].lower()\n"
   ]
  },
  {
   "cell_type": "code",
   "execution_count": null,
   "id": "9e8301cd",
   "metadata": {},
   "outputs": [],
   "source": [
    "#Q(4): Write a python program to convert only odd indexed characters to upper case\n"
   ]
  },
  {
   "cell_type": "code",
   "execution_count": 15,
   "id": "06f20ed3",
   "metadata": {},
   "outputs": [
    {
     "data": {
      "text/plain": [
       "'wElCoMe'"
      ]
     },
     "execution_count": 15,
     "metadata": {},
     "output_type": "execute_result"
    }
   ],
   "source": [
    "x=\"WELCOME\"\n",
    "x[0].lower()+x[1].upper()+x[2].lower()+x[3].upper()+x[4].lower()+x[5].upper()+x[6].lower()\n"
   ]
  },
  {
   "cell_type": "code",
   "execution_count": null,
   "id": "cde0d73d",
   "metadata": {},
   "outputs": [],
   "source": [
    "#Q(5): Write a python program to convert only even indexed characters to upper case\n",
    "\n"
   ]
  },
  {
   "cell_type": "code",
   "execution_count": 16,
   "id": "2ffa2352",
   "metadata": {},
   "outputs": [
    {
     "data": {
      "text/plain": [
       "'WeLcOmE'"
      ]
     },
     "execution_count": 16,
     "metadata": {},
     "output_type": "execute_result"
    }
   ],
   "source": [
    "x=\"WELCOME\"\n",
    "x[0].upper()+x[1].lower()+x[2].upper()+x[3].lower()+x[4].upper()+x[5].lower()+x[6].upper()\n",
    "\n"
   ]
  },
  {
   "cell_type": "code",
   "execution_count": null,
   "id": "856f2038",
   "metadata": {},
   "outputs": [],
   "source": [
    "#Q(6): Write a python program where you have different variable which contains your name ,sex,age, phone no ,fathers name and mothers name.And by using this variable create a variable named bio-data where you will use alL this variable"
   ]
  },
  {
   "cell_type": "code",
   "execution_count": 2,
   "id": "e0e66eff",
   "metadata": {},
   "outputs": [
    {
     "name": "stdout",
     "output_type": "stream",
     "text": [
      "enter name:lucky\n",
      "enter sex:male\n",
      "enter age:22\n",
      "enter ph_no:630252151\n",
      "enter father name:ravi\n",
      "enter mother name:rama\n",
      "my name is lucky my sex is male my age is 22 my phone no is630252151 my father name is ravi my mother is rama\n"
     ]
    }
   ],
   "source": [
    "name=input(\"enter name:\")\n",
    "sex=input(\"enter sex:\")\n",
    "age=int(input(\"enter age:\"))\n",
    "ph_no=int(input(\"enter ph_no:\"))\n",
    "fathername=input(\"enter father name:\")\n",
    "mothername=input(\"enter mother name:\")\n",
    "bio_data=print(\"my name is {} my sex is {} my age is {} my phone no is{} my father name is {} my mother is {}\".format(name,sex,age,ph_no,fathername,mothername))"
   ]
  },
  {
   "cell_type": "code",
   "execution_count": null,
   "id": "7d288ad6",
   "metadata": {},
   "outputs": [],
   "source": [
    "#Q(7):Write a python program to count how many times “@” occurred\n"
   ]
  },
  {
   "cell_type": "code",
   "execution_count": 5,
   "id": "2f0908ea",
   "metadata": {},
   "outputs": [
    {
     "data": {
      "text/plain": [
       "4"
      ]
     },
     "execution_count": 5,
     "metadata": {},
     "output_type": "execute_result"
    }
   ],
   "source": [
    "x=\"abc@UEYYIF@ $^GFJH@ _-+HGJ,JHGLBFdghgvcjg@\"\n",
    "x.count(\"@\")"
   ]
  },
  {
   "cell_type": "code",
   "execution_count": null,
   "id": "b3cf4df2",
   "metadata": {},
   "outputs": [],
   "source": [
    "#Q(8):Write a python program to get only names from the string “name1.@gmail.com,name2.@gmail.com,name3.@gmail.com”"
   ]
  },
  {
   "cell_type": "code",
   "execution_count": 2,
   "id": "d3c3b3b1",
   "metadata": {},
   "outputs": [],
   "source": [
    "x=\"name1.@gmail.com,name2.@gmail.com,name3.@gmail.com\"\n",
    "x=x.split(sep=\".\")"
   ]
  },
  {
   "cell_type": "code",
   "execution_count": 3,
   "id": "21a0846c",
   "metadata": {},
   "outputs": [
    {
     "data": {
      "text/plain": [
       "['name1', '@gmail', 'com,name2', '@gmail', 'com,name3', '@gmail', 'com']"
      ]
     },
     "execution_count": 3,
     "metadata": {},
     "output_type": "execute_result"
    }
   ],
   "source": [
    "x"
   ]
  },
  {
   "cell_type": "code",
   "execution_count": 6,
   "id": "bc44c1ae",
   "metadata": {},
   "outputs": [
    {
     "data": {
      "text/plain": [
       "('name1', 'name2', 'name3')"
      ]
     },
     "execution_count": 6,
     "metadata": {},
     "output_type": "execute_result"
    }
   ],
   "source": [
    "x[2]=\"name2\"\n",
    "x[4]=\"name3\"\n",
    "x[0],x[2],x[4]"
   ]
  },
  {
   "cell_type": "code",
   "execution_count": null,
   "id": "6b2150a6",
   "metadata": {},
   "outputs": [],
   "source": [
    "#Q(9):Given a string of odd length greater that 9, return a new string made of the middle three characters of a given String\n"
   ]
  },
  {
   "cell_type": "code",
   "execution_count": 11,
   "id": "fff818f1",
   "metadata": {},
   "outputs": [
    {
     "data": {
      "text/plain": [
       "'HLO'"
      ]
     },
     "execution_count": 11,
     "metadata": {},
     "output_type": "execute_result"
    }
   ],
   "source": [
    "x=\"abcdHLOghji\"\n",
    "len(x)//2\n",
    "x[4:7]"
   ]
  },
  {
   "cell_type": "code",
   "execution_count": null,
   "id": "30106cf8",
   "metadata": {},
   "outputs": [],
   "source": [
    "#Q(10):write a python program to insert a 2 string in the middle of 1 string"
   ]
  },
  {
   "cell_type": "code",
   "execution_count": 40,
   "id": "560ff5c9",
   "metadata": {},
   "outputs": [
    {
     "data": {
      "text/plain": [
       "'visaijay'"
      ]
     },
     "execution_count": 40,
     "metadata": {},
     "output_type": "execute_result"
    }
   ],
   "source": [
    "x=\"vijay\"\n",
    "y=\"sai\"\n",
    "z=len(x)//2\n",
    "result=x[:z] +y+ x[z:]\n",
    "result"
   ]
  },
  {
   "cell_type": "code",
   "execution_count": 36,
   "id": "006d8ad7",
   "metadata": {},
   "outputs": [
    {
     "ename": "SyntaxError",
     "evalue": "invalid syntax (680606810.py, line 1)",
     "output_type": "error",
     "traceback": [
      "\u001b[1;36m  Cell \u001b[1;32mIn[36], line 1\u001b[1;36m\u001b[0m\n\u001b[1;33m    c=str(a[:len(x)//2]+b+a(len(x)//2:))\u001b[0m\n\u001b[1;37m                                     ^\u001b[0m\n\u001b[1;31mSyntaxError\u001b[0m\u001b[1;31m:\u001b[0m invalid syntax\n"
     ]
    }
   ],
   "source": [
    "c=str(a[0:len(x)//2]+b+a(len(x)//2:))"
   ]
  },
  {
   "cell_type": "code",
   "execution_count": 7,
   "id": "ab289e28",
   "metadata": {},
   "outputs": [],
   "source": [
    "#Q(11):Write a program to remove vowels from the entire alphabets\n"
   ]
  },
  {
   "cell_type": "code",
   "execution_count": 13,
   "id": "e2cb5fde",
   "metadata": {},
   "outputs": [
    {
     "data": {
      "text/plain": [
       "'rpn'"
      ]
     },
     "execution_count": 13,
     "metadata": {},
     "output_type": "execute_result"
    }
   ],
   "source": [
    "x=\"europian\"\n",
    "x.replace(\"a\",\"\").replace(\"e\",\"\").replace(\"i\",\"\").replace(\"o\",\"\").replace(\"u\",\"\")"
   ]
  }
 ],
 "metadata": {
  "kernelspec": {
   "display_name": "Python 3 (ipykernel)",
   "language": "python",
   "name": "python3"
  },
  "language_info": {
   "codemirror_mode": {
    "name": "ipython",
    "version": 3
   },
   "file_extension": ".py",
   "mimetype": "text/x-python",
   "name": "python",
   "nbconvert_exporter": "python",
   "pygments_lexer": "ipython3",
   "version": "3.11.3"
  }
 },
 "nbformat": 4,
 "nbformat_minor": 5
}
